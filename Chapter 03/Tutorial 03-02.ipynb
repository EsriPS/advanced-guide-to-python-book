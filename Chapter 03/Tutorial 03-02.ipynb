{
 "cells": [
  {
   "cell_type": "code",
   "execution_count": null,
   "id": "53fd8e84",
   "metadata": {
    "hidden": true
   },
   "outputs": [],
   "source": [
    "import arcpy"
   ]
  },
  {
   "cell_type": "code",
   "execution_count": null,
   "id": "7ed3a745",
   "metadata": {
    "hidden": true
   },
   "outputs": [],
   "source": [
    "# relative path from this script to the project\n",
    "project_path = r\".\\Chapter 03 Files\\Chapter 03.aprx\""
   ]
  },
  {
   "cell_type": "code",
   "execution_count": null,
   "id": "f38f79aa",
   "metadata": {
    "hidden": true
   },
   "outputs": [],
   "source": [
    "# creating a project object\n",
    "project = arcpy.mp.ArcGISProject(project_path)"
   ]
  },
  {
   "cell_type": "code",
   "execution_count": null,
   "id": "fbc40b3e",
   "metadata": {
    "hidden": true
   },
   "outputs": [],
   "source": [
    "layout = project.listLayouts()[0]\n",
    "layout.name"
   ]
  },
  {
   "cell_type": "code",
   "execution_count": null,
   "id": "eceb4254",
   "metadata": {
    "hidden": true,
    "scrolled": true
   },
   "outputs": [],
   "source": [
    "for element in layout.listElements():\n",
    "    print(element.name)"
   ]
  },
  {
   "cell_type": "code",
   "execution_count": null,
   "id": "a350f0a7",
   "metadata": {
    "hidden": true
   },
   "outputs": [],
   "source": [
    "title = [e for e in layout.listElements() if e.name == 'Text'][0]\n",
    "map_frame = [e for e in layout.listElements() if e.name == 'Map Frame'][0]"
   ]
  },
  {
   "cell_type": "code",
   "execution_count": null,
   "id": "3dc02899",
   "metadata": {
    "hidden": true,
    "scrolled": true
   },
   "outputs": [],
   "source": [
    "for layer in map_frame.map.listLayers():\n",
    "    if layer.name in ['Highways_Intersect','Counties']:\n",
    "        print(layer.name, layer.isBroken)"
   ]
  },
  {
   "cell_type": "code",
   "execution_count": null,
   "id": "6723f0d9",
   "metadata": {
    "hidden": true
   },
   "outputs": [],
   "source": [
    "# iterate through each layer\n",
    "for layer in map_frame.map.listLayers():\n",
    "    \n",
    "    # check only the layers we think are broken\n",
    "    if layer.name in ['Highways_Intersect','Counties']:\n",
    "        \n",
    "        # get a copy of the connection properties of the broken layer\n",
    "        layer_conn_props = layer.connectionProperties\n",
    "        \n",
    "        # replace the database path in the copy of the connection properties\n",
    "        layer_conn_props['connection_info']['database'] = project.databases[0]['databasePath']\n",
    "        \n",
    "        # use the copy we fixed to update the layer\n",
    "        layer.updateConnectionProperties(\n",
    "            layer.connectionProperties, layer_conn_props\n",
    "        )\n",
    "        print(layer.name, layer.isBroken)"
   ]
  },
  {
   "cell_type": "code",
   "execution_count": null,
   "id": "dfcdfcc4",
   "metadata": {
    "hidden": true
   },
   "outputs": [],
   "source": [
    "project.save()"
   ]
  },
  {
   "cell_type": "code",
   "execution_count": null,
   "id": "ad269577",
   "metadata": {
    "hidden": true
   },
   "outputs": [],
   "source": [
    "# county layer\n",
    "counties_layer = map_frame.map.listLayers('Counties')[0]\n",
    "\n",
    "# identify the highways layer\n",
    "highways_layer = map_frame.map.listLayers(\"Highways_Intersect\")[0]"
   ]
  },
  {
   "cell_type": "code",
   "execution_count": null,
   "id": "a1abe89c",
   "metadata": {
    "hidden": true
   },
   "outputs": [],
   "source": [
    "# pick a county to test with\n",
    "county = 'Alameda County'\n",
    "\n",
    "# set the definition query for the counties and highways layers\n",
    "counties_layer.definitionQuery = f\"NAMELSAD = '{county}'\"\n",
    "highways_layer.definitionQuery = f\"NAMELSAD = '{county}'\""
   ]
  },
  {
   "cell_type": "code",
   "execution_count": null,
   "id": "8b2a9a35",
   "metadata": {
    "hidden": true
   },
   "outputs": [],
   "source": [
    "# get the county extent\n",
    "county_extent = map_frame.getLayerExtent(counties_layer)\n",
    "\n",
    "# set the MapFrame's extent\n",
    "map_frame.camera.setExtent(county_extent)"
   ]
  },
  {
   "cell_type": "code",
   "execution_count": null,
   "id": "5a3aa947",
   "metadata": {
    "hidden": true
   },
   "outputs": [],
   "source": [
    "# set the title text\n",
    "title.text = county"
   ]
  },
  {
   "cell_type": "code",
   "execution_count": null,
   "id": "b1964614",
   "metadata": {
    "hidden": true
   },
   "outputs": [],
   "source": [
    "# export the PDF.  Name the file using the county name.\n",
    "layout.exportToPDF(f'./{county}.pdf')"
   ]
  },
  {
   "cell_type": "code",
   "execution_count": null,
   "id": "5c5ea395",
   "metadata": {
    "hidden": true
   },
   "outputs": [],
   "source": [
    "# list of counties to export\n",
    "counties = [\n",
    "    \"Alameda County\",\n",
    "    \"Marin County\",\n",
    "    \"Contra Costa County\",\n",
    "    \"San Francisco County\",\n",
    "    \"Santa Clara County\"\n",
    "]"
   ]
  },
  {
   "cell_type": "code",
   "execution_count": null,
   "id": "8b4bb158",
   "metadata": {
    "hidden": true
   },
   "outputs": [],
   "source": [
    "# iterate through the counties\n",
    "for county in counties:\n",
    "    # set the definition query for the counties and highways layers\n",
    "    counties_layer.definitionQuery = f\"NAMELSAD = '{county}'\"\n",
    "    highways_layer.definitionQuery = f\"NAMELSAD = '{county}'\"\n",
    "    \n",
    "    # get the county extent\n",
    "    county_extent = map_frame.getLayerExtent(counties_layer)\n",
    "\n",
    "    # set the MapFrame's extent\n",
    "    map_frame.camera.setExtent(county_extent)\n",
    "    \n",
    "    # set the title text\n",
    "    title.text = county\n",
    "    \n",
    "    # export the PDF.  Name the file using the county name.\n",
    "    layout.exportToPDF(f'./{county}.pdf')"
   ]
  }
 ],
 "metadata": {
  "kernelspec": {
   "display_name": "Python 3",
   "language": "python",
   "name": "python3"
  },
  "language_info": {
   "codemirror_mode": {
    "name": "ipython",
    "version": 3
   },
   "file_extension": ".py",
   "mimetype": "text/x-python",
   "name": "python",
   "nbconvert_exporter": "python",
   "pygments_lexer": "ipython3",
   "version": "3.11.10"
  }
 },
 "nbformat": 4,
 "nbformat_minor": 5
}
