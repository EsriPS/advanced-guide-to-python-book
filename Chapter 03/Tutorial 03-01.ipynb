{
 "cells": [
  {
   "cell_type": "code",
   "execution_count": null,
   "id": "7a3d1363",
   "metadata": {},
   "outputs": [],
   "source": [
    "import arcpy"
   ]
  },
  {
   "cell_type": "code",
   "execution_count": null,
   "id": "fa94653f",
   "metadata": {},
   "outputs": [],
   "source": [
    "fc = './Chapter 03 Files/Chapter 03.gdb/Highways_Intersect'"
   ]
  },
  {
   "cell_type": "code",
   "execution_count": null,
   "id": "6458082a",
   "metadata": {
    "scrolled": true
   },
   "outputs": [],
   "source": [
    "arcpy.Exists(fc)"
   ]
  },
  {
   "cell_type": "code",
   "execution_count": null,
   "id": "417e1d3a",
   "metadata": {
    "hidden": true
   },
   "outputs": [],
   "source": [
    "arcpy.management.GetCount(fc)"
   ]
  },
  {
   "cell_type": "code",
   "execution_count": null,
   "id": "cba6403d",
   "metadata": {
    "hidden": true,
    "scrolled": true
   },
   "outputs": [],
   "source": [
    "results = arcpy.management.GetCount(fc)\n",
    "\n",
    "print(type(results))\n",
    "print(type(results[0]))\n",
    "int(results[0])"
   ]
  },
  {
   "cell_type": "code",
   "execution_count": null,
   "id": "e9597b5d",
   "metadata": {},
   "outputs": [],
   "source": [
    "arcpy.ListFields(fc)"
   ]
  },
  {
   "cell_type": "code",
   "execution_count": null,
   "id": "39610bc9",
   "metadata": {},
   "outputs": [],
   "source": [
    "for field in arcpy.ListFields(fc):\n",
    "    print(field.name, field.type, sep='\\t')"
   ]
  },
  {
   "cell_type": "code",
   "execution_count": null,
   "id": "1f242ca2",
   "metadata": {
    "hidden": true
   },
   "outputs": [],
   "source": [
    "# create an empty list to add values to\n",
    "all_values = []\n",
    "\n",
    "# iterate through rows using a Search Cursor\n",
    "for row in arcpy.da.SearchCursor(fc, ['HWY_NUM']):\n",
    "    \n",
    "    # add each value into the list\n",
    "    all_values.append(row[0])"
   ]
  },
  {
   "cell_type": "code",
   "execution_count": null,
   "id": "e34849f8",
   "metadata": {
    "hidden": true,
    "scrolled": true
   },
   "outputs": [],
   "source": [
    "len(all_values)"
   ]
  },
  {
   "cell_type": "code",
   "execution_count": null,
   "id": "ae347ad4",
   "metadata": {
    "hidden": true
   },
   "outputs": [],
   "source": [
    "unique_set = set(all_values)\n",
    "len(unique_set)"
   ]
  },
  {
   "cell_type": "code",
   "execution_count": null,
   "id": "acf989f2",
   "metadata": {
    "hidden": true
   },
   "outputs": [],
   "source": [
    "unique_values = list(set(all_values))\n",
    "print(len(unique_values))\n",
    "unique_values[0:5]"
   ]
  },
  {
   "cell_type": "code",
   "execution_count": null,
   "id": "05379a99",
   "metadata": {
    "hidden": true
   },
   "outputs": [],
   "source": [
    "# create an empty list\n",
    "unique_ints = []\n",
    "\n",
    "# iterate through unique values\n",
    "for str_val in unique_values:\n",
    "    \n",
    "    # convert to integer and append to list\n",
    "    unique_ints.append(\n",
    "        int(str_val)\n",
    "    )"
   ]
  },
  {
   "cell_type": "code",
   "execution_count": null,
   "id": "f29c557b",
   "metadata": {
    "hidden": true
   },
   "outputs": [],
   "source": [
    "# create an empty list\n",
    "unique_ints = []\n",
    "\n",
    "# iterate through unique values\n",
    "for str_val in unique_values:\n",
    "    \n",
    "    # replace problem characters with nothing\n",
    "    str_val = str_val.replace(\"S\",\"\").replace(\"N\",\"\")\n",
    "    \n",
    "    # convert to integer and append to list\n",
    "    unique_ints.append(\n",
    "        int(str_val)\n",
    "    )"
   ]
  },
  {
   "cell_type": "code",
   "execution_count": null,
   "id": "88cf6db9",
   "metadata": {
    "hidden": true
   },
   "outputs": [],
   "source": [
    "# create an empty list\n",
    "unique_ints = []\n",
    "\n",
    "# iterate through unique values\n",
    "for str_val in unique_values:\n",
    "    \n",
    "    # exclude any nulls or blank spaces\n",
    "    if str_val is not None and str_val != ' ':\n",
    "    \n",
    "        # replace problem characters with nothing\n",
    "        str_val = str_val.replace(\"S\",\"\").replace(\"N\",\"\")\n",
    "\n",
    "        # convert to integer and append to list\n",
    "        unique_ints.append(\n",
    "            int(str_val)\n",
    "        )"
   ]
  },
  {
   "cell_type": "code",
   "execution_count": null,
   "id": "bc40007f",
   "metadata": {
    "hidden": true
   },
   "outputs": [],
   "source": [
    "sorted(unique_ints)"
   ]
  },
  {
   "cell_type": "code",
   "execution_count": null,
   "id": "35af2283",
   "metadata": {
    "hidden": true
   },
   "outputs": [],
   "source": [
    "arcpy.management.AddField(\n",
    "    in_table = fc,\n",
    "    field_name = 'HWY_NUM_INT',\n",
    "    field_type = 'SHORT' # short integer\n",
    ")"
   ]
  },
  {
   "cell_type": "code",
   "execution_count": null,
   "id": "279bcf25",
   "metadata": {
    "hidden": true
   },
   "outputs": [],
   "source": [
    "# using the UpdateCursor as a context manager\n",
    "with arcpy.da.UpdateCursor(fc, ['HWY_NUM', 'HWY_NUM_INT']) as cursor:\n",
    "    \n",
    "    # Iterate through each row.  Each row will have two values.  \n",
    "    # One for HWY_NUM and one for HWY_NUM_INT\n",
    "    \n",
    "    for row in cursor:\n",
    "        # unpack the string value from the row\n",
    "        str_val = row[0]\n",
    "        \n",
    "        # exclude any nulls or blank spaces\n",
    "        if str_val is not None and str_val != ' ':\n",
    "    \n",
    "            # replace problem characters with nothing\n",
    "            str_val = str_val.replace(\"S\",\"\").replace(\"N\",\"\")\n",
    "            \n",
    "            # convert to integer\n",
    "            int_val = int(str_val)\n",
    "        \n",
    "        # handle the nulls\n",
    "        else:\n",
    "            int_val = None\n",
    "\n",
    "        # set the \"HWY_NUM_INT\" value to the converted integer\n",
    "        row[1] = int_val\n",
    "        \n",
    "        # use the cursor to update the row\n",
    "        cursor.updateRow(row)"
   ]
  }
 ],
 "metadata": {
  "kernelspec": {
   "display_name": "Python 3",
   "language": "python",
   "name": "python3"
  },
  "language_info": {
   "codemirror_mode": {
    "name": "ipython",
    "version": 3
   },
   "file_extension": ".py",
   "mimetype": "text/x-python",
   "name": "python",
   "nbconvert_exporter": "python",
   "pygments_lexer": "ipython3",
   "version": "3.11.10"
  }
 },
 "nbformat": 4,
 "nbformat_minor": 5
}
