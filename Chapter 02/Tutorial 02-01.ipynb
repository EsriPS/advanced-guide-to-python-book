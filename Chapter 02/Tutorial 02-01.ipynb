{
 "cells": [
  {
   "cell_type": "code",
   "execution_count": null,
   "id": "a4c74513",
   "metadata": {
    "hidden": true
   },
   "outputs": [],
   "source": [
    "# create a list\n",
    "list_1 = [1, 2, 3, 5, 7, 8]"
   ]
  },
  {
   "cell_type": "code",
   "execution_count": null,
   "id": "2f1692d9",
   "metadata": {
    "hidden": true,
    "scrolled": true
   },
   "outputs": [],
   "source": [
    "print(list_1)"
   ]
  },
  {
   "cell_type": "code",
   "execution_count": null,
   "id": "3f2dd9ae",
   "metadata": {
    "hidden": true,
    "scrolled": true
   },
   "outputs": [],
   "source": [
    "len(list_1)"
   ]
  },
  {
   "cell_type": "code",
   "execution_count": null,
   "id": "20f77171",
   "metadata": {
    "hidden": true
   },
   "outputs": [],
   "source": [
    "list_1[0]"
   ]
  },
  {
   "cell_type": "code",
   "execution_count": null,
   "id": "2be9e663",
   "metadata": {
    "hidden": true
   },
   "outputs": [],
   "source": [
    "list_1[1]"
   ]
  },
  {
   "cell_type": "code",
   "execution_count": null,
   "id": "d4bb2c05",
   "metadata": {
    "hidden": true
   },
   "outputs": [],
   "source": [
    "list_1[-1]"
   ]
  },
  {
   "cell_type": "code",
   "execution_count": null,
   "id": "319ef130",
   "metadata": {
    "hidden": true
   },
   "outputs": [],
   "source": [
    "list_1[-2]"
   ]
  },
  {
   "cell_type": "code",
   "execution_count": null,
   "id": "8da0083c",
   "metadata": {
    "hidden": true
   },
   "outputs": [],
   "source": [
    "list_1[1:-2]"
   ]
  },
  {
   "cell_type": "code",
   "execution_count": null,
   "id": "c6077075",
   "metadata": {
    "hidden": true
   },
   "outputs": [],
   "source": [
    "list_2 = list_1[1:-2]"
   ]
  },
  {
   "cell_type": "code",
   "execution_count": null,
   "id": "dae45dc8",
   "metadata": {
    "hidden": true
   },
   "outputs": [],
   "source": [
    "list_2.append(\"a new value\")"
   ]
  },
  {
   "cell_type": "code",
   "execution_count": null,
   "id": "b7d1b68e",
   "metadata": {
    "hidden": true
   },
   "outputs": [],
   "source": [
    "list_2"
   ]
  },
  {
   "cell_type": "code",
   "execution_count": null,
   "id": "e3eadd23",
   "metadata": {
    "hidden": true
   },
   "outputs": [],
   "source": [
    "sum(list_1)"
   ]
  },
  {
   "cell_type": "code",
   "execution_count": null,
   "id": "c6a06596",
   "metadata": {
    "hidden": true
   },
   "outputs": [],
   "source": [
    "sum(list_2)"
   ]
  },
  {
   "cell_type": "code",
   "execution_count": null,
   "id": "6ed1c2fa",
   "metadata": {
    "hidden": true
   },
   "outputs": [],
   "source": [
    "list_2.pop(-1)"
   ]
  },
  {
   "cell_type": "code",
   "execution_count": null,
   "id": "ec34bf7d",
   "metadata": {
    "hidden": true
   },
   "outputs": [],
   "source": [
    "list_2"
   ]
  },
  {
   "cell_type": "code",
   "execution_count": null,
   "id": "36ef15ac",
   "metadata": {
    "hidden": true
   },
   "outputs": [],
   "source": [
    "sum(list_2)"
   ]
  },
  {
   "cell_type": "code",
   "execution_count": null,
   "id": "8e88af23",
   "metadata": {
    "hidden": true
   },
   "outputs": [],
   "source": [
    "dict_1 = {\n",
    "    'key1': 'value1',\n",
    "    'key2': 'value2',\n",
    "    'key3': 'value3'\n",
    "}"
   ]
  },
  {
   "cell_type": "code",
   "execution_count": null,
   "id": "90fa2a8b",
   "metadata": {
    "hidden": true
   },
   "outputs": [],
   "source": [
    "dict_1.keys()"
   ]
  },
  {
   "cell_type": "code",
   "execution_count": null,
   "id": "dad8be44",
   "metadata": {
    "hidden": true
   },
   "outputs": [],
   "source": [
    "dict_1.values()"
   ]
  },
  {
   "cell_type": "code",
   "execution_count": null,
   "id": "8890d27f",
   "metadata": {
    "hidden": true
   },
   "outputs": [],
   "source": [
    "dict_1['key1']"
   ]
  },
  {
   "cell_type": "code",
   "execution_count": null,
   "id": "6e98323b",
   "metadata": {
    "hidden": true
   },
   "outputs": [],
   "source": [
    "dict_1['key1'] = 'updates!'\n",
    "dict_1['key1']"
   ]
  },
  {
   "cell_type": "code",
   "execution_count": null,
   "id": "a4050a00",
   "metadata": {
    "hidden": true
   },
   "outputs": [],
   "source": [
    "dict_1['a new key'] = 'a new value'"
   ]
  },
  {
   "cell_type": "code",
   "execution_count": null,
   "id": "d8104c3f",
   "metadata": {
    "hidden": true
   },
   "outputs": [],
   "source": [
    "dict_1['a list'] = list_2"
   ]
  },
  {
   "cell_type": "code",
   "execution_count": null,
   "id": "afae96b9",
   "metadata": {
    "hidden": true
   },
   "outputs": [],
   "source": [
    "# create a second dictionary\n",
    "dict_2 = {\n",
    "    'key3': 'new value3',\n",
    "    'key4': 'value4',\n",
    "    'key5': 'value5'\n",
    "}\n"
   ]
  },
  {
   "cell_type": "code",
   "execution_count": null,
   "id": "35544a45",
   "metadata": {
    "hidden": true
   },
   "outputs": [],
   "source": [
    "# combine two dictionaries\n",
    "dict_1.update(dict_2)"
   ]
  },
  {
   "cell_type": "code",
   "execution_count": null,
   "id": "a6969bd5",
   "metadata": {
    "hidden": true
   },
   "outputs": [],
   "source": [
    "dict_1"
   ]
  },
  {
   "cell_type": "code",
   "execution_count": null,
   "id": "bf971a8b",
   "metadata": {
    "hidden": true
   },
   "outputs": [],
   "source": [
    "import json"
   ]
  },
  {
   "cell_type": "code",
   "execution_count": null,
   "id": "edc14d4e",
   "metadata": {
    "hidden": true
   },
   "outputs": [],
   "source": [
    "with open('data.geojson') as f:\n",
    "    data = json.load(f)"
   ]
  },
  {
   "cell_type": "code",
   "execution_count": null,
   "id": "651bf182",
   "metadata": {
    "hidden": true
   },
   "outputs": [],
   "source": [
    "type(data)"
   ]
  },
  {
   "cell_type": "code",
   "execution_count": null,
   "id": "fbf8f9b2",
   "metadata": {
    "hidden": true
   },
   "outputs": [],
   "source": [
    "data.keys()"
   ]
  },
  {
   "cell_type": "code",
   "execution_count": null,
   "id": "6c6a685f",
   "metadata": {
    "hidden": true
   },
   "outputs": [],
   "source": [
    "data['type']"
   ]
  },
  {
   "cell_type": "code",
   "execution_count": null,
   "id": "08711f4a",
   "metadata": {
    "hidden": true
   },
   "outputs": [],
   "source": [
    "data['crs']"
   ]
  },
  {
   "cell_type": "code",
   "execution_count": null,
   "id": "870adc4e",
   "metadata": {
    "hidden": true
   },
   "outputs": [],
   "source": [
    "type(data['features'])"
   ]
  },
  {
   "cell_type": "code",
   "execution_count": null,
   "id": "34b2465e",
   "metadata": {
    "hidden": true
   },
   "outputs": [],
   "source": [
    "len(data['features'])"
   ]
  },
  {
   "cell_type": "code",
   "execution_count": null,
   "id": "0e9666db",
   "metadata": {
    "hidden": true
   },
   "outputs": [],
   "source": [
    "type(data['features'][0])"
   ]
  },
  {
   "cell_type": "code",
   "execution_count": null,
   "id": "a768a6f3",
   "metadata": {
    "hidden": true
   },
   "outputs": [],
   "source": [
    "first_feature = data['features'][0]"
   ]
  },
  {
   "cell_type": "code",
   "execution_count": null,
   "id": "362e6559",
   "metadata": {
    "hidden": true
   },
   "outputs": [],
   "source": [
    "first_feature.keys()"
   ]
  },
  {
   "cell_type": "code",
   "execution_count": null,
   "id": "753f6fc0",
   "metadata": {
    "hidden": true
   },
   "outputs": [],
   "source": [
    "first_feature['type']"
   ]
  },
  {
   "cell_type": "code",
   "execution_count": null,
   "id": "d82287a7",
   "metadata": {
    "hidden": true
   },
   "outputs": [],
   "source": [
    "first_feature['geometry']"
   ]
  },
  {
   "cell_type": "code",
   "execution_count": null,
   "id": "88f3b9ed",
   "metadata": {
    "hidden": true
   },
   "outputs": [],
   "source": [
    "first_feature['properties']"
   ]
  }
 ],
 "metadata": {
  "kernelspec": {
   "display_name": "Python 3 (ipykernel)",
   "language": "python",
   "name": "python3"
  },
  "language_info": {
   "codemirror_mode": {
    "name": "ipython",
    "version": 3
   },
   "file_extension": ".py",
   "mimetype": "text/x-python",
   "name": "python",
   "nbconvert_exporter": "python",
   "pygments_lexer": "ipython3",
   "version": "3.11.8"
  }
 },
 "nbformat": 4,
 "nbformat_minor": 5
}
