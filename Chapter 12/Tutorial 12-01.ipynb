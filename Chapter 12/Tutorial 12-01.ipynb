{
 "cells": [
  {
   "cell_type": "code",
   "execution_count": 2,
   "id": "2c9e28d1",
   "metadata": {},
   "outputs": [],
   "source": [
    "import arcpy"
   ]
  },
  {
   "cell_type": "code",
   "execution_count": 3,
   "id": "435c8010",
   "metadata": {
    "hidden": true
   },
   "outputs": [],
   "source": [
    "file_gdb = \"./indoors_test.gdb\""
   ]
  },
  {
   "cell_type": "code",
   "execution_count": null,
   "id": "b4d34936",
   "metadata": {
    "hidden": true
   },
   "outputs": [],
   "source": [
    "arcpy.Exists(file_gdb)"
   ]
  },
  {
   "cell_type": "code",
   "execution_count": 5,
   "id": "f811febf",
   "metadata": {
    "hidden": true
   },
   "outputs": [],
   "source": [
    "arcpy.env.workspace = file_gdb"
   ]
  },
  {
   "cell_type": "code",
   "execution_count": null,
   "id": "1935cd1c",
   "metadata": {
    "hidden": true
   },
   "outputs": [],
   "source": [
    "arcpy.ListFeatureClasses()"
   ]
  },
  {
   "cell_type": "code",
   "execution_count": null,
   "id": "a63dfb93",
   "metadata": {
    "hidden": true
   },
   "outputs": [],
   "source": [
    "arcpy.ListDatasets()"
   ]
  },
  {
   "cell_type": "code",
   "execution_count": null,
   "id": "7e2998db",
   "metadata": {
    "hidden": true
   },
   "outputs": [],
   "source": [
    "arcpy.ListTables()"
   ]
  },
  {
   "cell_type": "code",
   "execution_count": null,
   "id": "5cb38df0",
   "metadata": {
    "hidden": true
   },
   "outputs": [],
   "source": [
    "# iterate through each feature dataset\n",
    "for dataset in arcpy.ListDatasets():\n",
    "    \n",
    "    # print the dataset name\n",
    "    print(dataset)\n",
    "    \n",
    "    # within each dataset, list all the feature classes\n",
    "    for fc in arcpy.ListFeatureClasses(feature_dataset=dataset):\n",
    "        \n",
    "        # print the name of each feature class\n",
    "        print(f\"  {fc}\")\n",
    "        \n",
    "# print the names of the feature classes that are not in feature datasets       \n",
    "for fc in arcpy.ListFeatureClasses():\n",
    "    print(fc)\n",
    "    \n",
    "# print the name of each table\n",
    "for table in arcpy.ListTables():\n",
    "    print(table)"
   ]
  },
  {
   "cell_type": "code",
   "execution_count": null,
   "id": "713f0152",
   "metadata": {
    "hidden": true
   },
   "outputs": [],
   "source": [
    "fgdb_walker = arcpy.da.Walk(file_gdb)\n",
    "fgdb_walker"
   ]
  },
  {
   "cell_type": "code",
   "execution_count": null,
   "id": "c4e8ef53",
   "metadata": {
    "hidden": true
   },
   "outputs": [],
   "source": [
    "next(fgdb_walker)"
   ]
  },
  {
   "cell_type": "code",
   "execution_count": null,
   "id": "2e86f47f",
   "metadata": {
    "hidden": true
   },
   "outputs": [],
   "source": [
    "next(fgdb_walker)"
   ]
  },
  {
   "cell_type": "code",
   "execution_count": null,
   "id": "5b24eded",
   "metadata": {
    "hidden": true
   },
   "outputs": [],
   "source": [
    "next(fgdb_walker)"
   ]
  },
  {
   "cell_type": "code",
   "execution_count": null,
   "id": "992f82e8",
   "metadata": {
    "hidden": true
   },
   "outputs": [],
   "source": [
    "next(fgdb_walker)"
   ]
  },
  {
   "cell_type": "code",
   "execution_count": null,
   "id": "7f590100",
   "metadata": {
    "hidden": true
   },
   "outputs": [],
   "source": [
    "next(fgdb_walker)"
   ]
  },
  {
   "cell_type": "code",
   "execution_count": null,
   "id": "0cceb6fe",
   "metadata": {
    "hidden": true
   },
   "outputs": [],
   "source": [
    "# unpack the tuples from the Walk object\n",
    "for root, directories, files in arcpy.da.Walk(file_gdb):\n",
    "    \n",
    "    # iterate through individual files\n",
    "    for file in files:\n",
    "        print(file)"
   ]
  },
  {
   "cell_type": "code",
   "execution_count": 17,
   "id": "89f809f4",
   "metadata": {
    "hidden": true
   },
   "outputs": [],
   "source": [
    "import os"
   ]
  },
  {
   "cell_type": "code",
   "execution_count": null,
   "id": "6567e048",
   "metadata": {
    "hidden": true
   },
   "outputs": [],
   "source": [
    "# unpack the tuples from the Walk object\n",
    "for root, directories, files in arcpy.da.Walk(file_gdb):\n",
    "    \n",
    "    # iterate through individual files\n",
    "    for file in files:\n",
    "        \n",
    "        # combine root and file to get the full path\n",
    "        full_path = os.path.join(root, file)\n",
    "        \n",
    "        print(full_path)"
   ]
  },
  {
   "cell_type": "code",
   "execution_count": null,
   "id": "3e7e4871",
   "metadata": {
    "hidden": true
   },
   "outputs": [],
   "source": [
    "desc = arcpy.Describe(\n",
    "    os.path.join(file_gdb, \"IndoorsConfig\")\n",
    ")\n",
    "desc"
   ]
  },
  {
   "cell_type": "code",
   "execution_count": null,
   "id": "52d5ee36",
   "metadata": {
    "hidden": true
   },
   "outputs": [],
   "source": [
    "# check the dataType property\n",
    "desc.dataType"
   ]
  },
  {
   "cell_type": "code",
   "execution_count": null,
   "id": "515ba2a4",
   "metadata": {
    "hidden": true
   },
   "outputs": [],
   "source": [
    "desc = arcpy.Describe(\n",
    "    os.path.join(file_gdb, \"Indoors\", \"Levels\")\n",
    ")\n",
    "desc"
   ]
  },
  {
   "cell_type": "code",
   "execution_count": null,
   "id": "57dd4017",
   "metadata": {
    "hidden": true
   },
   "outputs": [],
   "source": [
    "for root, directories, files in arcpy.da.Walk(file_gdb):\n",
    "    for file in files:\n",
    "        full_path = os.path.join(root, file)\n",
    "        print(full_path)"
   ]
  },
  {
   "cell_type": "code",
   "execution_count": null,
   "id": "85535402",
   "metadata": {
    "hidden": true
   },
   "outputs": [],
   "source": [
    "for root, directories, files in arcpy.da.Walk(file_gdb):\n",
    "    for file in files:\n",
    "        full_path = os.path.join(root, file)\n",
    "        \n",
    "        # describe the file\n",
    "        desc = arcpy.Describe(full_path)\n",
    "        \n",
    "        # test to see if file is a feature class and it has a point geometry type\n",
    "        if desc.dataType == 'FeatureClass' and desc.shapeType == 'Point':\n",
    "            print(full_path)"
   ]
  }
 ],
 "metadata": {
  "kernelspec": {
   "display_name": "Python 3",
   "language": "python",
   "name": "python3"
  },
  "language_info": {
   "codemirror_mode": {
    "name": "ipython",
    "version": 3
   },
   "file_extension": ".py",
   "mimetype": "text/x-python",
   "name": "python",
   "nbconvert_exporter": "python",
   "pygments_lexer": "ipython3",
   "version": "3.11.10"
  }
 },
 "nbformat": 4,
 "nbformat_minor": 5
}
