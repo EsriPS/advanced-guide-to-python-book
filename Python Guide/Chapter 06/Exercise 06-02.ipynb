{
 "cells": [
  {
   "cell_type": "code",
   "execution_count": 1,
   "id": "80bf9665",
   "metadata": {
    "hidden": true
   },
   "outputs": [],
   "source": [
    "import pandas"
   ]
  },
  {
   "cell_type": "code",
   "execution_count": 2,
   "id": "340e6fd6",
   "metadata": {
    "hidden": true
   },
   "outputs": [],
   "source": [
    "df_311 = pandas.read_csv('./311_Cases.csv')"
   ]
  },
  {
   "cell_type": "code",
   "execution_count": null,
   "id": "f298ab63",
   "metadata": {
    "hidden": true
   },
   "outputs": [],
   "source": [
    "df_311.shape"
   ]
  },
  {
   "cell_type": "code",
   "execution_count": null,
   "id": "2a33ad90",
   "metadata": {
    "hidden": true
   },
   "outputs": [],
   "source": [
    "df_311.dtypes"
   ]
  },
  {
   "cell_type": "code",
   "execution_count": null,
   "id": "4ec910f6",
   "metadata": {
    "hidden": true,
    "scrolled": true
   },
   "outputs": [],
   "source": [
    "df_311.head()"
   ]
  },
  {
   "cell_type": "code",
   "execution_count": 6,
   "id": "78549882",
   "metadata": {
    "hidden": true
   },
   "outputs": [],
   "source": [
    "import arcgis"
   ]
  },
  {
   "cell_type": "code",
   "execution_count": 7,
   "id": "b35a08a4",
   "metadata": {
    "hidden": true
   },
   "outputs": [],
   "source": [
    "df_311 = pandas.DataFrame.spatial.from_xy(\n",
    "    df_311,\n",
    "    x_column = 'Longitude',\n",
    "    y_column = 'Latitude')"
   ]
  },
  {
   "cell_type": "code",
   "execution_count": null,
   "id": "b1299316",
   "metadata": {
    "hidden": true
   },
   "outputs": [],
   "source": [
    "df_311[['Category','Latitude','Longitude','SHAPE']].head()"
   ]
  },
  {
   "cell_type": "code",
   "execution_count": 9,
   "id": "6f373533",
   "metadata": {
    "hidden": true
   },
   "outputs": [],
   "source": [
    "gis = arcgis.GIS()"
   ]
  },
  {
   "cell_type": "code",
   "execution_count": 10,
   "id": "397130b5",
   "metadata": {
    "hidden": true
   },
   "outputs": [],
   "source": [
    "map_view = gis.map(\"San Francisco, CA\")"
   ]
  },
  {
   "cell_type": "code",
   "execution_count": null,
   "id": "893db1c8",
   "metadata": {
    "hidden": true
   },
   "outputs": [],
   "source": [
    "df_311.spatial.plot(\n",
    "    map_widget = map_view,\n",
    "    renderer_type = 'u',\n",
    "    col = 'Category')"
   ]
  },
  {
   "cell_type": "code",
   "execution_count": null,
   "id": "29dcfcd5",
   "metadata": {
    "hidden": true
   },
   "outputs": [],
   "source": [
    "map_view"
   ]
  },
  {
   "cell_type": "markdown",
   "id": "b08c810d",
   "metadata": {},
   "source": [
    "Copyright 2025 Esri"
   ]
  }
 ],
 "metadata": {
  "kernelspec": {
   "display_name": "Python 3",
   "language": "python",
   "name": "python3"
  },
  "language_info": {
   "codemirror_mode": {
    "name": "ipython",
    "version": 3
   },
   "file_extension": ".py",
   "mimetype": "text/x-python",
   "name": "python",
   "nbconvert_exporter": "python",
   "pygments_lexer": "ipython3",
   "version": "3.11.10"
  }
 },
 "nbformat": 4,
 "nbformat_minor": 5
}
