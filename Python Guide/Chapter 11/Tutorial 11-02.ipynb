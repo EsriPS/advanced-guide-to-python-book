{
 "cells": [
  {
   "cell_type": "code",
   "execution_count": 1,
   "id": "0b9d649e",
   "metadata": {
    "hidden": true
   },
   "outputs": [],
   "source": [
    "# import the arcgis package\n",
    "import arcgis\n",
    "\n",
    "# set up ArcGIS Online credentials\n",
    "gis = arcgis.GIS(\"home\")\n"
   ]
  },
  {
   "cell_type": "code",
   "execution_count": 2,
   "id": "f70d9a14",
   "metadata": {
    "hidden": true
   },
   "outputs": [],
   "source": [
    "item_2020_census_housing = gis.content.get('81d9e89b8b574a649ff6e14f61c8494f')\n",
    "lyr_counties = item_2020_census_housing.layers[2]"
   ]
  },
  {
   "cell_type": "code",
   "execution_count": 3,
   "id": "e33d7fd4",
   "metadata": {},
   "outputs": [],
   "source": [
    "df_single_state = lyr_counties.query(\n",
    "    where = \"STATE = 'California'\",\n",
    "    as_df = True,\n",
    "    return_geometry = True\n",
    ")"
   ]
  },
  {
   "cell_type": "code",
   "execution_count": 4,
   "id": "d9dcc34c",
   "metadata": {},
   "outputs": [],
   "source": [
    "field_aliases = {f['name']: f['alias'] \n",
    "              for f in lyr_counties.properties.fields}\n",
    "\n",
    "df_single_state = df_single_state.rename(columns=field_aliases)"
   ]
  },
  {
   "cell_type": "code",
   "execution_count": 5,
   "id": "287440b0",
   "metadata": {},
   "outputs": [],
   "source": [
    "df_single_state = df_single_state.sort_values(\n",
    "    'Total Housing Units',\n",
    "    ascending=False\n",
    ")"
   ]
  },
  {
   "cell_type": "code",
   "execution_count": 6,
   "id": "a7c29498",
   "metadata": {},
   "outputs": [],
   "source": [
    "import seaborn as sns"
   ]
  },
  {
   "cell_type": "code",
   "execution_count": 7,
   "id": "416b80cd",
   "metadata": {},
   "outputs": [],
   "source": [
    "sns.set_theme()"
   ]
  },
  {
   "cell_type": "code",
   "execution_count": null,
   "id": "842d5248",
   "metadata": {},
   "outputs": [],
   "source": [
    "sns.barplot(\n",
    "    df_single_state,\n",
    "    x = 'Name',\n",
    "    y = 'Total Housing Units'\n",
    "\n",
    ")"
   ]
  },
  {
   "cell_type": "code",
   "execution_count": null,
   "id": "2548dff1",
   "metadata": {
    "scrolled": true
   },
   "outputs": [],
   "source": [
    "# globally change the figure size\n",
    "sns.set(rc={\"figure.figsize\": (9, 4)})\n",
    "\n",
    "ax = sns.barplot(\n",
    "    df_single_state,\n",
    "    x = 'Name',\n",
    "    y = 'Total Housing Units'\n",
    "\n",
    ")\n",
    "\n",
    "# rotate the labels on the X-Axis 90 degrees\n",
    "ax = ax.set_xticklabels(df_single_state['Name'],rotation=90)"
   ]
  },
  {
   "cell_type": "code",
   "execution_count": 10,
   "id": "b8bcc06a",
   "metadata": {
    "hidden": true,
    "scrolled": false
   },
   "outputs": [],
   "source": [
    "import plotly.express as px"
   ]
  },
  {
   "cell_type": "code",
   "execution_count": null,
   "id": "a86516ad",
   "metadata": {
    "hidden": true
   },
   "outputs": [],
   "source": [
    "fig = px.bar(df_single_state, \n",
    "             x='Name', \n",
    "             y='Total Housing Units')\n",
    "fig.show()"
   ]
  },
  {
   "cell_type": "code",
   "execution_count": null,
   "id": "93ab8240",
   "metadata": {},
   "outputs": [],
   "source": [
    "df_single_state.dtypes"
   ]
  },
  {
   "cell_type": "code",
   "execution_count": 13,
   "id": "5d90f157",
   "metadata": {},
   "outputs": [],
   "source": [
    "# keep only the necessary columns\n",
    "df_for_fc = df_single_state[[\"Total Housing Units\", \"Name\", 'SHAPE']]\n",
    "\n",
    "# rename the column with no spaces in the name\n",
    "df_for_fc = df_for_fc.rename(\n",
    "    columns={\n",
    "        \"Total Housing Units\": \"total_housing_units\"\n",
    "    }\n",
    ")"
   ]
  },
  {
   "cell_type": "code",
   "execution_count": 14,
   "id": "8384f19c",
   "metadata": {},
   "outputs": [],
   "source": [
    "import arcpy\n",
    "fc_memory = df_for_fc.spatial.to_featureclass(\"memory\\\\single_state\")"
   ]
  },
  {
   "cell_type": "code",
   "execution_count": null,
   "id": "e3d19315",
   "metadata": {},
   "outputs": [],
   "source": [
    "# create a chart object\n",
    "arcpy_bar = arcpy.charts.Bar(\n",
    "    x=\"Name\",\n",
    "    y = [\"total_housing_units\"],\n",
    "    title = \"Total Housing Units by County\",\n",
    "    dataSource = fc_memory,\n",
    "    displaySize = (800, 400)\n",
    ")\n",
    "\n",
    "# sort the data by values\n",
    "arcpy_bar.yAxis.sort='DESC'\n",
    "\n",
    "# display the chart\n",
    "arcpy_bar"
   ]
  },
  {
   "cell_type": "code",
   "execution_count": 16,
   "id": "461d5928",
   "metadata": {},
   "outputs": [],
   "source": [
    "import ipywidgets\n",
    "\n",
    "drop_down_x = ipywidgets.Dropdown(\n",
    "    options = df_single_state.columns,\n",
    "    values = df_single_state.columns,\n",
    "    description = \"X Axis\",\n",
    "    value = 'Percent of housing units that are urban'\n",
    ")\n",
    "\n",
    "drop_down_y = ipywidgets.Dropdown(\n",
    "    options = df_single_state.columns,\n",
    "    values = df_single_state.columns,\n",
    "    description = \"Y Axis\",\n",
    "    value = 'Vacancy rate'\n",
    ")\n"
   ]
  },
  {
   "cell_type": "code",
   "execution_count": 17,
   "id": "5c4f037e",
   "metadata": {},
   "outputs": [],
   "source": [
    "def show_a_chart(x_field, y_field):\n",
    "    sns.scatterplot(df_single_state, x=x_field, y=y_field)"
   ]
  },
  {
   "cell_type": "code",
   "execution_count": null,
   "id": "e00c53b8",
   "metadata": {},
   "outputs": [],
   "source": [
    "ipywidgets.interact(show_a_chart,  # the function you wrote\n",
    "                    x_field = drop_down_x,  # the x_field parameter in your function\n",
    "                    y_field = drop_down_y # the y_field parameter in your function\n",
    "                   )"
   ]
  }
 ],
 "metadata": {
  "kernelspec": {
   "display_name": "Python 3",
   "language": "python",
   "name": "python3"
  },
  "language_info": {
   "codemirror_mode": {
    "name": "ipython",
    "version": 3
   },
   "file_extension": ".py",
   "mimetype": "text/x-python",
   "name": "python",
   "nbconvert_exporter": "python",
   "pygments_lexer": "ipython3",
   "version": "3.11.10"
  }
 },
 "nbformat": 4,
 "nbformat_minor": 5
}
