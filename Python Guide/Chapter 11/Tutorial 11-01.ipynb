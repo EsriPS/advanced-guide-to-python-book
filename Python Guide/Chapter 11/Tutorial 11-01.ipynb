{
 "cells": [
  {
   "cell_type": "code",
   "execution_count": null,
   "id": "eaa0b67f",
   "metadata": {
    "hidden": true
   },
   "outputs": [],
   "source": [
    "# import the arcgis package\n",
    "import arcgis\n",
    "\n",
    "# set up ArcGIS Online credentials\n",
    "gis = arcgis.GIS(\"home\")\n",
    "\n",
    "# display my user information\n",
    "gis.users.me"
   ]
  },
  {
   "cell_type": "code",
   "execution_count": null,
   "id": "e9c120b9",
   "metadata": {
    "hidden": true
   },
   "outputs": [],
   "source": [
    "item_2020_census_housing = gis.content.get('81d9e89b8b574a649ff6e14f61c8494f')\n",
    "item_2020_census_housing"
   ]
  },
  {
   "cell_type": "code",
   "execution_count": null,
   "id": "431991ad",
   "metadata": {
    "hidden": true
   },
   "outputs": [],
   "source": [
    "[\n",
    "    (i, lyr.properties.name) for i, lyr \n",
    "    in enumerate(item_2020_census_housing.layers)\n",
    "]"
   ]
  },
  {
   "cell_type": "code",
   "execution_count": 4,
   "id": "16525686",
   "metadata": {
    "hidden": true
   },
   "outputs": [],
   "source": [
    "lyr_counties = item_2020_census_housing.layers[2]"
   ]
  },
  {
   "cell_type": "code",
   "execution_count": 5,
   "id": "e4142371",
   "metadata": {
    "hidden": true
   },
   "outputs": [],
   "source": [
    "df_california = lyr_counties.query(\n",
    "    where = \"STATE = 'California'\",\n",
    "    as_df = True,\n",
    "    return_geometry = False\n",
    ")"
   ]
  },
  {
   "cell_type": "code",
   "execution_count": 6,
   "id": "4ccd22ef",
   "metadata": {
    "hidden": true
   },
   "outputs": [],
   "source": [
    "# get the field names and aliases from the layer\n",
    "field_aliases = {f['name']: f['alias'] \n",
    "                  for f in lyr_counties.properties.fields}\n",
    "\n",
    "# rename the DataFrame columns to use the field aliases\n",
    "df_california = df_california.rename(columns=field_aliases)"
   ]
  },
  {
   "cell_type": "code",
   "execution_count": null,
   "id": "75adbdc8",
   "metadata": {
    "hidden": true
   },
   "outputs": [],
   "source": [
    "df_california.plot()"
   ]
  },
  {
   "cell_type": "code",
   "execution_count": null,
   "id": "9c3a336e",
   "metadata": {
    "hidden": true,
    "scrolled": true
   },
   "outputs": [],
   "source": [
    "df_california.plot(\n",
    "    kind='bar', \n",
    "    x='Name', \n",
    "    y='Total Housing Units',\n",
    ")"
   ]
  },
  {
   "cell_type": "code",
   "execution_count": null,
   "id": "e12be00a",
   "metadata": {
    "hidden": true
   },
   "outputs": [],
   "source": [
    "df_california = df_california.sort_values(\n",
    "    'Total Housing Units', \n",
    "    ascending=False\n",
    "    )\n",
    "\n",
    "#Return the top 5 to review them\n",
    "df_california[['Name','Total Housing Units']].head()"
   ]
  },
  {
   "cell_type": "code",
   "execution_count": null,
   "id": "9b5d7bc2",
   "metadata": {
    "hidden": true
   },
   "outputs": [],
   "source": [
    "df_california.plot(\n",
    "    kind='bar', \n",
    "    x='Name', \n",
    "    y='Total Housing Units',\n",
    ")"
   ]
  },
  {
   "cell_type": "code",
   "execution_count": null,
   "id": "0a82ab57",
   "metadata": {
    "hidden": true
   },
   "outputs": [],
   "source": [
    "df_california.plot(\n",
    "    kind='bar', \n",
    "    x='Name', \n",
    "    y='Total Housing Units',\n",
    "    figsize=(15, 5),\n",
    ")"
   ]
  },
  {
   "cell_type": "code",
   "execution_count": 12,
   "id": "c211636c",
   "metadata": {
    "hidden": true
   },
   "outputs": [],
   "source": [
    "df_states = lyr_counties.query(\n",
    "    out_fields=['State'],\n",
    "    return_geometry=False, \n",
    "    as_df=True\n",
    ")\n"
   ]
  },
  {
   "cell_type": "code",
   "execution_count": 13,
   "id": "2f916aad",
   "metadata": {
    "hidden": true
   },
   "outputs": [],
   "source": [
    "states_to_map = df_states.State.unique()"
   ]
  },
  {
   "cell_type": "code",
   "execution_count": null,
   "id": "faaf123f",
   "metadata": {
    "hidden": true
   },
   "outputs": [],
   "source": [
    "for state in states_to_map:\n",
    "    \n",
    "    # query the state layer\n",
    "    df_state = lyr_counties.query(\n",
    "        where = f\"STATE = '{state}'\",\n",
    "        as_df = True\n",
    "        )\n",
    "    \n",
    "    # rename the columns (we already created the field aliases dictionary)\n",
    "    df_state = df_state.rename(columns=field_aliases)\n",
    "    \n",
    "    # sort the values in the DataFrame\n",
    "    df_state = df_state.sort_values(\n",
    "        'Total Housing Units', \n",
    "        ascending=False\n",
    "        )\n",
    "    \n",
    "    # create a chart object\n",
    "    chart = df_state.plot(\n",
    "        kind='bar', \n",
    "        x='Name', \n",
    "        y='Total Housing Units',\n",
    "        figsize=(15, 10),\n",
    "    )\n",
    "    \n",
    "   \n",
    "    # convert to a matplotlib Figure\n",
    "    fig = chart.get_figure()\n",
    "    \n",
    "    # save as a pdf file\n",
    "    fig.savefig(f\"./{state}.pdf\")"
   ]
  },
  {
   "cell_type": "markdown",
   "id": "484d84ac",
   "metadata": {},
   "source": [
    "Copyright 2025 Esri"
   ]
  }
 ],
 "metadata": {
  "kernelspec": {
   "display_name": "Python 3",
   "language": "python",
   "name": "python3"
  },
  "language_info": {
   "codemirror_mode": {
    "name": "ipython",
    "version": 3
   },
   "file_extension": ".py",
   "mimetype": "text/x-python",
   "name": "python",
   "nbconvert_exporter": "python",
   "pygments_lexer": "ipython3",
   "version": "3.11.10"
  }
 },
 "nbformat": 4,
 "nbformat_minor": 5
}
