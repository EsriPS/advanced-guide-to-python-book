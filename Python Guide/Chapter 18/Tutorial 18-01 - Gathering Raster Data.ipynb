{
 "cells": [
  {
   "cell_type": "code",
   "execution_count": 1,
   "id": "e5a97087",
   "metadata": {
    "hidden": true
   },
   "outputs": [],
   "source": [
    "import arcgis\n",
    "import pandas as pd\n",
    "from IPython.display import Image"
   ]
  },
  {
   "cell_type": "code",
   "execution_count": 2,
   "id": "235cbcfc",
   "metadata": {
    "hidden": true
   },
   "outputs": [],
   "source": [
    "gis = arcgis.GIS(\"home\")"
   ]
  },
  {
   "cell_type": "code",
   "execution_count": null,
   "id": "ce1db6bd",
   "metadata": {
    "hidden": true
   },
   "outputs": [],
   "source": [
    "naip_item = gis.content.get(\"3f8d2d3828f24c00ae279db4af26d566\")\n",
    "naip_item"
   ]
  },
  {
   "cell_type": "code",
   "execution_count": 4,
   "id": "d2f31b39",
   "metadata": {
    "hidden": true
   },
   "outputs": [],
   "source": [
    "lyr_naip = naip_item.layers[0]"
   ]
  },
  {
   "cell_type": "code",
   "execution_count": null,
   "id": "3c460db6",
   "metadata": {
    "hidden": true
   },
   "outputs": [],
   "source": [
    "map_view = gis.map(\"Mountain House, CA\")\n",
    "map_view"
   ]
  },
  {
   "cell_type": "code",
   "execution_count": 6,
   "id": "4ec4078d",
   "metadata": {
    "hidden": true
   },
   "outputs": [],
   "source": [
    "map_view.content.add(lyr_naip)"
   ]
  },
  {
   "cell_type": "code",
   "execution_count": 7,
   "id": "9dc2e3e5",
   "metadata": {
    "hidden": true
   },
   "outputs": [],
   "source": [
    "# define extent by tuple\n",
    "in_extent = (-13530675.22, 4545237.67, -13528866.13, 4547533.23) \n",
    "\n",
    "# unpack the extent tuple into individual variables\n",
    "xmin, ymin, xmax, ymax = in_extent"
   ]
  },
  {
   "cell_type": "code",
   "execution_count": null,
   "id": "19739311",
   "metadata": {
    "hidden": true
   },
   "outputs": [],
   "source": [
    "# create a dictionary for the envelope\n",
    "extent_dict = {'xmin': xmin,\n",
    "  'ymin': ymin,\n",
    "  'xmax': xmax,\n",
    "  'ymax': ymax,\n",
    "  'spatialReference': {'wkid': 3857}}\n",
    "\n",
    "# create an envelope geometry\n",
    "envelope = arcgis.geometry.Envelope(extent_dict) \n",
    "envelope"
   ]
  },
  {
   "cell_type": "code",
   "execution_count": 9,
   "id": "171c33c5",
   "metadata": {
    "hidden": true
   },
   "outputs": [],
   "source": [
    "# create a polygon from the envelope\n",
    "p_dict = {'rings': [[\n",
    "    [xmin, ymin],\n",
    "    [xmin, ymax],\n",
    "    [xmax, ymax],\n",
    "    [xmax, ymin],\n",
    "    [xmin, ymin]\n",
    "]], 'spatialReference': {'wkid': 3857}}\n",
    "\n",
    "poly = arcgis.geometry.Polygon(p_dict)"
   ]
  },
  {
   "cell_type": "code",
   "execution_count": 10,
   "id": "a3c9a505",
   "metadata": {
    "hidden": true
   },
   "outputs": [],
   "source": [
    "# create a DataFrame and add to map\n",
    "df = pd.DataFrame([{\"SHAPE\": poly}])\n",
    "df.spatial.set_geometry(\"SHAPE\")\n",
    "map_view.content.add(df)"
   ]
  },
  {
   "cell_type": "code",
   "execution_count": null,
   "id": "e80d68c4",
   "metadata": {
    "hidden": true
   },
   "outputs": [],
   "source": [
    "# NAIP Resolution\n",
    "naip_res = 1 \n",
    "\n",
    "# Web Mercator meters per unit\n",
    "metersPerUnit = 1\n",
    "\n",
    "# calculate the width and height of our output in pixels\n",
    "w = int((xmax - xmin) * metersPerUnit / naip_res)\n",
    "h = int((ymax - ymin) * metersPerUnit / naip_res)\n",
    "\n",
    "[w,h]"
   ]
  },
  {
   "cell_type": "code",
   "execution_count": null,
   "id": "6aa7381a",
   "metadata": {
    "hidden": true
   },
   "outputs": [],
   "source": [
    "df_naip = lyr_naip.query(\n",
    "    where = \"AcquisitionDate IS NOT NULL\",\n",
    "    geometry_filter = arcgis.geometry.filters.intersects(\n",
    "        geometry=envelope, \n",
    "        sr=3857),\n",
    "    as_df=True,\n",
    "    )\n",
    "df_naip"
   ]
  },
  {
   "cell_type": "code",
   "execution_count": null,
   "id": "b80c5c52",
   "metadata": {
    "hidden": true
   },
   "outputs": [],
   "source": [
    "df_naip[['Year','AcquisitionDate']]"
   ]
  },
  {
   "cell_type": "code",
   "execution_count": null,
   "id": "454b3136",
   "metadata": {
    "hidden": true
   },
   "outputs": [],
   "source": [
    "filter_date = df_naip['AcquisitionDate'][0]\n",
    "filter_date"
   ]
  },
  {
   "cell_type": "code",
   "execution_count": null,
   "id": "f41585ad",
   "metadata": {
    "hidden": true
   },
   "outputs": [],
   "source": [
    "lyr_naip.export_image?"
   ]
  },
  {
   "cell_type": "code",
   "execution_count": null,
   "id": "853b81cd",
   "metadata": {
    "hidden": true
   },
   "outputs": [],
   "source": [
    "mountain_house_2012 = lyr_naip.export_image(\n",
    "        bbox = envelope, # bounding box generated earlier\n",
    "        bbox_sr = 3857, # bounding box spatial reference (web mercator)\n",
    "        image_sr = 3857, # bounding box spatial reference (web mercator)\n",
    "        time = filter_date, # timestamp representing 2012 acquisition date\n",
    "        rendering_rule = {'rasterFunction': \"NaturalColor\"}, # which bands to include\n",
    "        f = \"image\", # specify image output\n",
    "        export_format='jpeg', # output image format\n",
    "        size = [w,h], # width and height that we generated earlier\n",
    "        save_folder = r\".\", # output folder - this is the one that the script is in\n",
    "        save_file = rf\"mountain_house_2012.jpg\", # file name\n",
    "        )\n",
    "\n",
    "Image(mountain_house_2012)"
   ]
  },
  {
   "cell_type": "code",
   "execution_count": null,
   "id": "85ee9062",
   "metadata": {
    "hidden": true
   },
   "outputs": [],
   "source": [
    "years_and_dates = df_naip[['Year','AcquisitionDate']].to_dict('records')\n",
    "years_and_dates[0]"
   ]
  },
  {
   "cell_type": "code",
   "execution_count": null,
   "id": "702450d2",
   "metadata": {
    "hidden": true
   },
   "outputs": [],
   "source": [
    "for year_and_date in years_and_dates:\n",
    "    \n",
    "    # unpack the year\n",
    "    year = year_and_date['Year']\n",
    "    \n",
    "    # unpack the filter date\n",
    "    filter_date = year_and_date['AcquisitionDate']\n",
    "    \n",
    "    # export the image\n",
    "    export_image = lyr_naip.export_image(\n",
    "        bbox = envelope,\n",
    "        bbox_sr = 3857, \n",
    "        image_sr = 3857, \n",
    "        time = filter_date, # timestamp changed to iterating date\n",
    "        rendering_rule = {'rasterFunction': \"NaturalColor\"}, \n",
    "        f = \"image\", \n",
    "        export_format='jpeg', \n",
    "        size = [w,h], \n",
    "        save_folder = r\".\", \n",
    "        save_file = rf\"mountain_house_{year}.jpg\", # file name changed to include year\n",
    "        )\n",
    "    \n",
    "    print(year)\n",
    "    display(Image(export_image))"
   ]
  },
  {
   "cell_type": "markdown",
   "id": "608e84f1",
   "metadata": {
    "hidden": true
   },
   "source": [
    "Copyright 2025 Esri"
   ]
  }
 ],
 "metadata": {
  "kernelspec": {
   "display_name": "Python 3",
   "language": "python",
   "name": "python3"
  },
  "language_info": {
   "codemirror_mode": {
    "name": "ipython",
    "version": 3
   },
   "file_extension": ".py",
   "mimetype": "text/x-python",
   "name": "python",
   "nbconvert_exporter": "python",
   "pygments_lexer": "ipython3",
   "version": "3.11.11"
  }
 },
 "nbformat": 4,
 "nbformat_minor": 5
}
