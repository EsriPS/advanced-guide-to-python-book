{
 "cells": [
  {
   "cell_type": "code",
   "execution_count": 1,
   "id": "86df4823",
   "metadata": {
    "hidden": true
   },
   "outputs": [],
   "source": [
    "import pandas\n",
    "import requests\n",
    "import json\n",
    "import datetime"
   ]
  },
  {
   "cell_type": "code",
   "execution_count": null,
   "id": "a5674ae5",
   "metadata": {
    "hidden": true,
    "scrolled": true
   },
   "outputs": [],
   "source": [
    "now = datetime.datetime.now()\n",
    "now"
   ]
  },
  {
   "cell_type": "code",
   "execution_count": null,
   "id": "782a8a28",
   "metadata": {
    "hidden": true
   },
   "outputs": [],
   "source": [
    "start_date = now - datetime.timedelta(days=7)\n",
    "start_date"
   ]
  },
  {
   "cell_type": "code",
   "execution_count": null,
   "id": "fa7ba3c6",
   "metadata": {
    "hidden": true
   },
   "outputs": [],
   "source": [
    "# Set the time to midnight\n",
    "midnight = datetime.time()\n",
    "\n",
    "# Combine the date and time\n",
    "start_day_midnight = datetime.datetime.combine(start_date, midnight)\n",
    "\n",
    "start_day_midnight"
   ]
  },
  {
   "cell_type": "code",
   "execution_count": null,
   "id": "b6a9c2a7",
   "metadata": {
    "hidden": true
   },
   "outputs": [],
   "source": [
    "field_list = [\n",
    "    'service_request_id',\n",
    "    'requested_datetime',\n",
    "    'status_notes',\n",
    "    'lat',\n",
    "    'long',\n",
    "    'neighborhoods_sffind_boundaries',\n",
    "    'source',\n",
    "    'supervisor_district',\n",
    "    'media_url',\n",
    "    'point'\n",
    "]\n",
    "\n",
    "fields = \"$select=\" + \",\".join(field_list)\n",
    "fields"
   ]
  },
  {
   "cell_type": "code",
   "execution_count": 6,
   "id": "300724c2",
   "metadata": {
    "hidden": true
   },
   "outputs": [],
   "source": [
    "url = \"https://data.sfgov.org/resource/vw6y-z8j6.json\""
   ]
  },
  {
   "cell_type": "code",
   "execution_count": null,
   "id": "53b97af0",
   "metadata": {
    "hidden": true
   },
   "outputs": [],
   "source": [
    "formatted_start_day = start_day_midnight.strftime('%Y-%m-%dT%H:%M:%S.%f') \n",
    "formatted_start_day"
   ]
  },
  {
   "cell_type": "code",
   "execution_count": null,
   "id": "34400870",
   "metadata": {
    "hidden": true
   },
   "outputs": [],
   "source": [
    "where = f\"$where=status_description='Open' and requested_datetime > '{formatted_start_day}'\"\n",
    "where"
   ]
  },
  {
   "cell_type": "code",
   "execution_count": null,
   "id": "b7c18f5b",
   "metadata": {
    "hidden": true
   },
   "outputs": [],
   "source": [
    "full_url = url+\"?\"+fields+\"&\"+where\n",
    "full_url"
   ]
  },
  {
   "cell_type": "code",
   "execution_count": null,
   "id": "f1dcb343",
   "metadata": {
    "hidden": true
   },
   "outputs": [],
   "source": [
    "response = requests.get(full_url)\n",
    "response"
   ]
  },
  {
   "cell_type": "code",
   "execution_count": 11,
   "id": "948081a9",
   "metadata": {
    "hidden": true
   },
   "outputs": [],
   "source": [
    "response_text = response.text"
   ]
  },
  {
   "cell_type": "code",
   "execution_count": null,
   "id": "07214650",
   "metadata": {
    "hidden": true
   },
   "outputs": [],
   "source": [
    "print(type(response_text))\n",
    "print(len(response_text))\n",
    "response_text[0:1000]"
   ]
  },
  {
   "cell_type": "code",
   "execution_count": null,
   "id": "250ca9ee",
   "metadata": {
    "hidden": true
   },
   "outputs": [],
   "source": [
    "results_list = json.loads(response_text)\n",
    "results_list[0:2]"
   ]
  },
  {
   "cell_type": "code",
   "execution_count": null,
   "id": "cd83a50b",
   "metadata": {
    "hidden": true,
    "scrolled": true
   },
   "outputs": [],
   "source": [
    "df = pandas.DataFrame(results_list)\n",
    "df.head()"
   ]
  }
 ],
 "metadata": {
  "kernelspec": {
   "display_name": "Python 3",
   "language": "python",
   "name": "python3"
  },
  "language_info": {
   "codemirror_mode": {
    "name": "ipython",
    "version": 3
   },
   "file_extension": ".py",
   "mimetype": "text/x-python",
   "name": "python",
   "nbconvert_exporter": "python",
   "pygments_lexer": "ipython3",
   "version": "3.11.10"
  }
 },
 "nbformat": 4,
 "nbformat_minor": 5
}
