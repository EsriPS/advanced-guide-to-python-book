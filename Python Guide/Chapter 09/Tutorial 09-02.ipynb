{
 "cells": [
  {
   "cell_type": "code",
   "execution_count": 1,
   "id": "e25d17b0",
   "metadata": {
    "hidden": true
   },
   "outputs": [],
   "source": [
    "def extract_to_df(url):\n",
    "    '''\n",
    "    TODO - write docstring\n",
    "    '''\n",
    "\n",
    "    # Request data from the API\n",
    "    response = requests.get(url)\n",
    "\n",
    "    # Convert the response to JSON\n",
    "    response_text = response.text\n",
    "\n",
    "    # Convert JSON to a Python data type (lists/dictionaries)\n",
    "    results_list = json.loads(response_text)\n",
    "\n",
    "    # Convert the Python lists/dictionaries to a Pandas DataFrame\n",
    "    df = pandas.DataFrame(results_list)\n",
    "\n",
    "    # Return the DataFrame\n",
    "    return df\n"
   ]
  },
  {
   "cell_type": "code",
   "execution_count": 2,
   "id": "eb4577b7",
   "metadata": {
    "hidden": true
   },
   "outputs": [],
   "source": [
    "import pandas\n",
    "import requests\n",
    "import json\n",
    "import datetime\n",
    "import arcgis\n",
    "\n",
    "# base url for the data\n",
    "url = \"https://data.sfgov.org/resource/vw6y-z8j6.json\"\n",
    "\n",
    "# build the field list\n",
    "field_list = [\n",
    "    'service_request_id',\n",
    "    'requested_datetime',\n",
    "    'status_notes',\n",
    "    'service_name',\n",
    "    'service_subtype',\n",
    "    'lat',\n",
    "    'long',\n",
    "    'neighborhoods_sffind_boundaries',\n",
    "    'source',\n",
    "    'supervisor_district',\n",
    "    'media_url',\n",
    "    'point'\n",
    "]\n",
    "fields = \"$select=\" + \",\".join(field_list)\n",
    "\n",
    "# build the where statement\n",
    "now = datetime.datetime.now()\n",
    "start_date = now - datetime.timedelta(days=7)\n",
    "\n",
    "# Set the time to midnight\n",
    "midnight = datetime.time()\n",
    "\n",
    "# Combine the date and time\n",
    "start_day_midnight = datetime.datetime.combine(start_date, midnight)\n",
    "start_day_string = start_day_midnight.strftime('%Y-%m-%dT%H:%M:%S.%f') \n",
    "where = f\"$where=status_description='Open' and requested_datetime > '{start_day_string}'\"\n",
    "\n",
    "# set a record limit\n",
    "limit = \"&$limit=10000\"\n",
    "\n",
    "# combine the url components\n",
    "full_url = url+\"?\" + fields + \"&\" + where + limit\n",
    "\n",
    "# call our function to extract and convert to a DataFrame\n",
    "df = extract_to_df(full_url)"
   ]
  },
  {
   "cell_type": "code",
   "execution_count": null,
   "id": "63b7bf14",
   "metadata": {
    "hidden": true,
    "scrolled": false
   },
   "outputs": [],
   "source": [
    "# Review the results\n",
    "print(df.shape)\n",
    "df.head()"
   ]
  },
  {
   "cell_type": "code",
   "execution_count": null,
   "id": "a8c52448",
   "metadata": {
    "hidden": true
   },
   "outputs": [],
   "source": [
    "def street_cleaning(value):\n",
    "    if value == 'Street and Sidewalk Cleaning':\n",
    "        return 1\n",
    "    else:\n",
    "        return 0\n",
    "    \n",
    "print(street_cleaning('Street and Sidewalk Cleaning'))\n",
    "print(street_cleaning('some other string'))"
   ]
  },
  {
   "cell_type": "code",
   "execution_count": null,
   "id": "e7e4f225",
   "metadata": {
    "hidden": true
   },
   "outputs": [],
   "source": [
    "lambda_func = lambda x: 1 if x == 'Street and Sidewalk Cleaning' else 0\n",
    "\n",
    "print(lambda_func('Street and Sidewalk Cleaning'))\n",
    "print(lambda_func('some other string'))"
   ]
  },
  {
   "cell_type": "code",
   "execution_count": null,
   "id": "01cfe556",
   "metadata": {
    "hidden": true
   },
   "outputs": [],
   "source": [
    "df['service_name'].apply(\n",
    "    lambda r: 1 if r== 'Street and Sidewalk Cleaning' else 0\n",
    ")"
   ]
  },
  {
   "cell_type": "code",
   "execution_count": 7,
   "id": "731e306e",
   "metadata": {
    "hidden": true
   },
   "outputs": [],
   "source": [
    "# street/sidewalk cleaning yes/no\n",
    "df['street_sidewalk_cleaning'] = df['service_name'].apply(\n",
    "    lambda r: 1 if r== 'Street and Sidewalk Cleaning' else 0\n",
    ")\n",
    "\n",
    "# graffiti yes/no\n",
    "df['graffiti'] = df['service_name'].apply(\n",
    "    lambda r: 1 if r== 'Graffiti' else 0\n",
    ")\n",
    "\n",
    "# counter column for total cases\n",
    "df['total_cases'] = 1"
   ]
  },
  {
   "cell_type": "code",
   "execution_count": null,
   "id": "f7940088",
   "metadata": {
    "hidden": true
   },
   "outputs": [],
   "source": [
    "df[['service_name','street_sidewalk_cleaning','graffiti','total_cases']]"
   ]
  },
  {
   "cell_type": "code",
   "execution_count": null,
   "id": "d0687c3f",
   "metadata": {
    "hidden": true
   },
   "outputs": [],
   "source": [
    "df_neighborhood = df.groupby(\"neighborhoods_sffind_boundaries\").agg(\n",
    "    {\n",
    "        \"total_cases\": \"sum\",\n",
    "        \"street_sidewalk_cleaning\": \"sum\",\n",
    "        \"graffiti\": \"sum\"\n",
    "    }\n",
    ")\n",
    "df_neighborhood"
   ]
  },
  {
   "cell_type": "code",
   "execution_count": 10,
   "id": "60227650",
   "metadata": {
    "hidden": true
   },
   "outputs": [],
   "source": [
    "sedf_neighborhoods = pandas.DataFrame.spatial.from_featureclass(\n",
    "    \"../Chapter 09/Tutorial_09.gdb/SF_Find_Neighborhoods\"\n",
    ")"
   ]
  },
  {
   "cell_type": "code",
   "execution_count": 11,
   "id": "4aaa5b50",
   "metadata": {
    "hidden": true
   },
   "outputs": [],
   "source": [
    "sedf_merge = sedf_neighborhoods.merge(\n",
    "    df_neighborhood, \n",
    "    how = 'inner', \n",
    "    left_on = 'name', \n",
    "    right_on = 'neighborhoods_sffind_boundaries'\n",
    ")"
   ]
  },
  {
   "cell_type": "code",
   "execution_count": null,
   "id": "8fc47acb",
   "metadata": {
    "hidden": true
   },
   "outputs": [],
   "source": [
    "sedf_merge.spatial.to_featureclass(\n",
    "    \"../Chapter 09/Tutorial_09.gdb/sf_311_cases_prev_7_days\"\n",
    ")"
   ]
  },
  {
   "cell_type": "markdown",
   "id": "33c3c1b1",
   "metadata": {},
   "source": [
    "Copyright 2025 Esri"
   ]
  }
 ],
 "metadata": {
  "kernelspec": {
   "display_name": "Python 3",
   "language": "python",
   "name": "python3"
  },
  "language_info": {
   "codemirror_mode": {
    "name": "ipython",
    "version": 3
   },
   "file_extension": ".py",
   "mimetype": "text/x-python",
   "name": "python",
   "nbconvert_exporter": "python",
   "pygments_lexer": "ipython3",
   "version": "3.11.10"
  }
 },
 "nbformat": 4,
 "nbformat_minor": 5
}
