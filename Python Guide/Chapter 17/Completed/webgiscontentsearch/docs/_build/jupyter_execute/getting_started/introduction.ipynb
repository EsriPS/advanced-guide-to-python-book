{
 "cells": [
  {
   "cell_type": "markdown",
   "metadata": {},
   "source": [
    "# Introduction\n",
    "\n",
    "Using Web GIS Content Search, you can easily search and filter content from your ArcGIS Online organization or Portal for ArcGIS!"
   ]
  },
  {
   "cell_type": "code",
   "execution_count": 1,
   "metadata": {},
   "outputs": [
    {
     "name": "stderr",
     "output_type": "stream",
     "text": [
      "Profile my_fav_portal does not have a password on file through keyring. If you are expecting this behavior (PKI or IWA authentication, entering password through run-time prompt, etc.), please ignore this message. If you would like to store your password in the my_fav_portal profile, run GIS(profile = 'my_fav_portal', password = ...). See the API doc for more details. (https://developers.arcgis.com/python/api-reference/arcgis.gis.toc.html#gis)\n"
     ]
    },
    {
     "ename": "KeyError",
     "evalue": "'id'",
     "output_type": "error",
     "traceback": [
      "\u001b[1;31m---------------------------------------------------------------------------\u001b[0m",
      "\u001b[1;31mKeyError\u001b[0m                                  Traceback (most recent call last)",
      "Cell \u001b[1;32mIn[1], line 7\u001b[0m\n\u001b[0;32m      3\u001b[0m \u001b[38;5;28;01mfrom\u001b[39;00m \u001b[38;5;21;01mwebgiscontentsearch\u001b[39;00m \u001b[38;5;28;01mimport\u001b[39;00m items_search\n\u001b[0;32m      5\u001b[0m gis \u001b[38;5;241m=\u001b[39m GIS(profile\u001b[38;5;241m=\u001b[39m\u001b[38;5;124m\"\u001b[39m\u001b[38;5;124mmy_fav_portal\u001b[39m\u001b[38;5;124m\"\u001b[39m)\n\u001b[1;32m----> 7\u001b[0m results \u001b[38;5;241m=\u001b[39m items_search(\n\u001b[0;32m      8\u001b[0m     gis \u001b[38;5;241m=\u001b[39m gis,\n\u001b[0;32m      9\u001b[0m     owner \u001b[38;5;241m=\u001b[39m \u001b[38;5;124m\"\u001b[39m\u001b[38;5;124mgee_eyeess\u001b[39m\u001b[38;5;124m\"\u001b[39m,\n\u001b[0;32m     10\u001b[0m     output_path \u001b[38;5;241m=\u001b[39m \u001b[38;5;124mr\u001b[39m\u001b[38;5;124m\"\u001b[39m\u001b[38;5;124mc:\u001b[39m\u001b[38;5;124m\\\u001b[39m\u001b[38;5;124mtemp\u001b[39m\u001b[38;5;124m\\\u001b[39m\u001b[38;5;124mgee_eyeess_items.csv\u001b[39m\u001b[38;5;124m\"\u001b[39m,\n\u001b[0;32m     11\u001b[0m )\n\u001b[0;32m     13\u001b[0m results\n",
      "File \u001b[1;32m~\\AppData\\Local\\ESRI\\conda\\envs\\arcgispro-py3-FINAL\\Lib\\site-packages\\webgiscontentsearch\\gis_inventory.py:68\u001b[0m, in \u001b[0;36mitems_search\u001b[1;34m(gis, append_search_string, owner, group, tag, content_status, created_from, created_to, modified_from, modified_to, output_path)\u001b[0m\n\u001b[0;32m     48\u001b[0m \u001b[38;5;250m\u001b[39m\u001b[38;5;124;03m\"\"\"\u001b[39;00m\n\u001b[0;32m     49\u001b[0m \u001b[38;5;124;03mSearches for items in ArcGIS Online organization or Portal for ArcGIS based on the specified criteria.\u001b[39;00m\n\u001b[0;32m     50\u001b[0m \n\u001b[1;32m   (...)\u001b[0m\n\u001b[0;32m     64\u001b[0m \u001b[38;5;124;03m    list: List of search results matching the specified criteria.\u001b[39;00m\n\u001b[0;32m     65\u001b[0m \u001b[38;5;124;03m\"\"\"\u001b[39;00m\n\u001b[0;32m     66\u001b[0m \u001b[38;5;66;03m# First, building the search string\u001b[39;00m\n\u001b[1;32m---> 68\u001b[0m search_string \u001b[38;5;241m=\u001b[39m \u001b[38;5;124mf\u001b[39m\u001b[38;5;124m'\u001b[39m\u001b[38;5;124m(orgid:\u001b[39m\u001b[38;5;124m\"\u001b[39m\u001b[38;5;132;01m{\u001b[39;00mgis\u001b[38;5;241m.\u001b[39mproperties[\u001b[38;5;124m\"\u001b[39m\u001b[38;5;124mid\u001b[39m\u001b[38;5;124m\"\u001b[39m]\u001b[38;5;132;01m}\u001b[39;00m\u001b[38;5;124m\"\u001b[39m\u001b[38;5;124m)\u001b[39m\u001b[38;5;124m'\u001b[39m\n\u001b[0;32m     70\u001b[0m \u001b[38;5;66;03m# If we have a content status, we need to add it to the search string\u001b[39;00m\n\u001b[0;32m     71\u001b[0m \u001b[38;5;28;01mif\u001b[39;00m content_status:\n\u001b[0;32m     72\u001b[0m     \u001b[38;5;66;03m# Valid content status values\u001b[39;00m\n",
      "File \u001b[1;32m~\\AppData\\Local\\ESRI\\conda\\envs\\arcgispro-py3-FINAL\\Lib\\site-packages\\arcgis\\_impl\\common\\_mixins.py:350\u001b[0m, in \u001b[0;36mPropertyMap.__getitem__\u001b[1;34m(self, key)\u001b[0m\n\u001b[0;32m    346\u001b[0m \u001b[38;5;28;01mdef\u001b[39;00m \u001b[38;5;21m__getitem__\u001b[39m(\u001b[38;5;28mself\u001b[39m, key):\n\u001b[0;32m    347\u001b[0m \u001b[38;5;250m    \u001b[39m\u001b[38;5;124;03m\"\"\"\u001b[39;00m\n\u001b[0;32m    348\u001b[0m \u001b[38;5;124;03m    Access a value associated with a key.\u001b[39;00m\n\u001b[0;32m    349\u001b[0m \u001b[38;5;124;03m    \"\"\"\u001b[39;00m\n\u001b[1;32m--> 350\u001b[0m     \u001b[38;5;28;01mreturn\u001b[39;00m \u001b[38;5;28mself\u001b[39m\u001b[38;5;241m.\u001b[39m_mapping[key]\n",
      "\u001b[1;31mKeyError\u001b[0m: 'id'"
     ]
    }
   ],
   "source": [
    "from arcgis import GIS\n",
    "\n",
    "from webgiscontentsearch import items_search\n",
    "\n",
    "gis = GIS(profile=\"my_fav_portal\")\n",
    "\n",
    "results = items_search(\n",
    "    gis = gis,\n",
    "    owner = \"gee_eyeess\",\n",
    "    output_path = r\"c:\\temp\\gee_eyeess_items.csv\",\n",
    ")\n",
    "\n",
    "results"
   ]
  }
 ],
 "metadata": {
  "kernelspec": {
   "display_name": "Python 3",
   "language": "python",
   "name": "python3"
  },
  "language_info": {
   "codemirror_mode": {
    "name": "ipython",
    "version": 3
   },
   "file_extension": ".py",
   "mimetype": "text/x-python",
   "name": "python",
   "nbconvert_exporter": "python",
   "pygments_lexer": "ipython3",
   "version": "3.11.10"
  }
 },
 "nbformat": 4,
 "nbformat_minor": 2
}