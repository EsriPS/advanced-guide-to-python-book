{
 "cells": [
  {
   "cell_type": "code",
   "execution_count": null,
   "id": "71f778ca",
   "metadata": {
    "scrolled": true
   },
   "outputs": [],
   "source": [
    "# set a number\n",
    "number = 8\n",
    "\n",
    "# use the modulus operator\n",
    "number % 2 == 0"
   ]
  },
  {
   "cell_type": "code",
   "execution_count": null,
   "id": "dc68a138",
   "metadata": {},
   "outputs": [],
   "source": [
    "\n",
    "# set a number\n",
    "number = 8\n",
    "\n",
    "# check if the number is even\n",
    "if number % 2 == 0:\n",
    "\n",
    "    # print a message only if the number is even\n",
    "    print('this is even')\n",
    "\n",
    "else:\n",
    "    # execute this code block if the number is NOT even\n",
    "    print('this is odd')"
   ]
  },
  {
   "cell_type": "code",
   "execution_count": null,
   "id": "9aad04ae",
   "metadata": {},
   "outputs": [],
   "source": [
    "\n",
    "# set a number\n",
    "number = 7\n",
    "\n",
    "# first condition to check for zeros\n",
    "if number == 0:\n",
    "    \n",
    "    print('this is zero')\n",
    "    \n",
    "# check if the number is even\n",
    "elif number % 2 == 0:\n",
    "\n",
    "    # print a message only if the number is even\n",
    "    print('this is even')\n",
    "\n",
    "# print a message only if the number is odd\n",
    "else:\n",
    "    print('this is odd')"
   ]
  },
  {
   "cell_type": "code",
   "execution_count": null,
   "id": "4f648b41",
   "metadata": {},
   "outputs": [],
   "source": [
    "def even_odd(number):\n",
    "\n",
    "    if number == 0:\n",
    "        return('this is zero')\n",
    "        \n",
    "    elif number % 2 == 0:\n",
    "        return('this is even')\n",
    "\n",
    "    else:\n",
    "        return('this is odd')"
   ]
  },
  {
   "cell_type": "code",
   "execution_count": null,
   "id": "31b20f56",
   "metadata": {},
   "outputs": [],
   "source": [
    "# create a list\n",
    "list_of_numbers = [0,1,2,3,4,5,6,7,8,9,10]"
   ]
  },
  {
   "cell_type": "code",
   "execution_count": null,
   "id": "86b38708",
   "metadata": {},
   "outputs": [],
   "source": [
    "# iterate through each item in that list\n",
    "for n in list_of_numbers:\n",
    "    print(n)"
   ]
  },
  {
   "cell_type": "code",
   "execution_count": null,
   "id": "26bd5ba1",
   "metadata": {},
   "outputs": [],
   "source": [
    "# iterate through the list of numbers\n",
    "for n in list_of_numbers:\n",
    "    \n",
    "    # this will execute each time\n",
    "    print(n)\n",
    "\n",
    "    # first condition to check for zeroes\n",
    "    if n == 0:\n",
    "\n",
    "        # this will only execute if n is 0\n",
    "        print('this is zero')\n",
    "\n",
    "    # check if the number is even\n",
    "    elif n % 2 == 0:\n",
    "\n",
    "        # this will execute only if n is even\n",
    "        print('this is even')\n",
    "\n",
    "    else:\n",
    "        \n",
    "        # this will execute only if n is not 0 and is not even\n",
    "        print('this is odd')\n"
   ]
  },
  {
   "cell_type": "code",
   "execution_count": null,
   "id": "80773781",
   "metadata": {},
   "outputs": [],
   "source": [
    "for n in list_of_numbers:\n",
    "    \n",
    "    # use the function\n",
    "    is_even = even_odd(n)\n",
    "    \n",
    "    # print the number and the result of the function\n",
    "    print(n, is_even)"
   ]
  },
  {
   "cell_type": "code",
   "execution_count": null,
   "id": "ddc7dd59",
   "metadata": {},
   "outputs": [],
   "source": [
    "# initial condition\n",
    "n = 10\n",
    "\n",
    "# while loop and exit condition\n",
    "while n < 20:\n",
    "    \n",
    "    # execute this code each time\n",
    "    print(n, even_odd(n))\n",
    "    \n",
    "    # change the value for n so that it can reach the exit condition eventually\n",
    "    n += 1"
   ]
  },
  {
   "cell_type": "code",
   "execution_count": null,
   "id": "ddd68a86",
   "metadata": {},
   "outputs": [],
   "source": [
    "import json\n",
    "\n",
    "with open('data.geojson') as f:\n",
    "    data = json.load(f)"
   ]
  },
  {
   "cell_type": "code",
   "execution_count": null,
   "id": "c30d0a16",
   "metadata": {},
   "outputs": [],
   "source": [
    "features = data['features']"
   ]
  },
  {
   "cell_type": "code",
   "execution_count": null,
   "id": "642e2694",
   "metadata": {},
   "outputs": [],
   "source": [
    "sn_count_dict = {}"
   ]
  },
  {
   "cell_type": "code",
   "execution_count": null,
   "id": "30f24501",
   "metadata": {},
   "outputs": [],
   "source": [
    "feature = features[0]"
   ]
  },
  {
   "cell_type": "code",
   "execution_count": null,
   "id": "82b95101",
   "metadata": {},
   "outputs": [],
   "source": [
    "service_name = feature['properties']['service_name']\n",
    "service_name"
   ]
  },
  {
   "cell_type": "code",
   "execution_count": null,
   "id": "9d93e452",
   "metadata": {},
   "outputs": [],
   "source": [
    "service_name in sn_count_dict"
   ]
  },
  {
   "cell_type": "code",
   "execution_count": null,
   "id": "0f1a500d",
   "metadata": {},
   "outputs": [],
   "source": [
    "sn_count_dict[service_name] =  1"
   ]
  },
  {
   "cell_type": "code",
   "execution_count": null,
   "id": "35bef200",
   "metadata": {},
   "outputs": [],
   "source": [
    "# test to see if the service name is already in there\n",
    "if service_name in sn_count_dict:\n",
    "    # add to the already existing value\n",
    "    sn_count_dict[service_name] = sn_count_dict[service_name] + 1\n",
    "else:\n",
    "    # add a new key to the dictionary and populate it with a 1\n",
    "    sn_count_dict[service_name] =  1"
   ]
  },
  {
   "cell_type": "code",
   "execution_count": null,
   "id": "91b01c80",
   "metadata": {},
   "outputs": [],
   "source": [
    "sn_count_dict"
   ]
  },
  {
   "cell_type": "code",
   "execution_count": null,
   "id": "6fb9136c",
   "metadata": {},
   "outputs": [],
   "source": [
    "sn_count_dict = {}"
   ]
  },
  {
   "cell_type": "code",
   "execution_count": null,
   "id": "63d5cded",
   "metadata": {},
   "outputs": [],
   "source": [
    "# reset the dictionary - just in case\n",
    "sn_count_dict = {}\n",
    "\n",
    "# iterate through each feature\n",
    "for feature in features:\n",
    "    \n",
    "    # get the service name\n",
    "    service_name = feature['properties']['service_name']\n",
    "    \n",
    "    # test to see if the service_name is in the dictionary\n",
    "    if service_name in sn_count_dict:\n",
    "        # add to the number if it's already in there\n",
    "        sn_count_dict[service_name] = sn_count_dict[service_name] + 1\n",
    "    else:\n",
    "        # add a new key to the dictionary if not already there\n",
    "        sn_count_dict[service_name] =  1"
   ]
  },
  {
   "cell_type": "code",
   "execution_count": null,
   "id": "d2a2947f",
   "metadata": {},
   "outputs": [],
   "source": [
    "sn_count_dict"
   ]
  },
  {
   "cell_type": "markdown",
   "id": "79dc33a5",
   "metadata": {},
   "source": [
    "Copyright 2025 Esri"
   ]
  }
 ],
 "metadata": {
  "kernelspec": {
   "display_name": "Python 3 (ipykernel)",
   "language": "python",
   "name": "python3"
  },
  "language_info": {
   "codemirror_mode": {
    "name": "ipython",
    "version": 3
   },
   "file_extension": ".py",
   "mimetype": "text/x-python",
   "name": "python",
   "nbconvert_exporter": "python",
   "pygments_lexer": "ipython3",
   "version": "3.11.8"
  }
 },
 "nbformat": 4,
 "nbformat_minor": 5
}
