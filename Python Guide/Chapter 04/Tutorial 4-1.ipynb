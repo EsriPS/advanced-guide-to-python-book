{
 "cells": [
  {
   "cell_type": "code",
   "execution_count": null,
   "metadata": {},
   "outputs": [],
   "source": [
    "from arcgis.gis import GIS\n",
    "from arcgis.features import analysis\n",
    "from pathlib import Path\n",
    "import arcpy\n",
    "import shutil"
   ]
  },
  {
   "cell_type": "code",
   "execution_count": null,
   "metadata": {},
   "outputs": [],
   "source": [
    "my_gis_org = GIS(\"home\")"
   ]
  },
  {
   "cell_type": "code",
   "execution_count": null,
   "metadata": {},
   "outputs": [],
   "source": [
    "my_gis_org.users.me"
   ]
  },
  {
   "cell_type": "code",
   "execution_count": null,
   "metadata": {},
   "outputs": [],
   "source": [
    "source_fgdb_path = Path(r\".\\Parking_Violations_and_Neighborhoods.gdb\")"
   ]
  },
  {
   "cell_type": "code",
   "execution_count": null,
   "metadata": {},
   "outputs": [],
   "source": [
    "arcpy.management.Compact(str(source_fgdb_path))"
   ]
  },
  {
   "cell_type": "code",
   "execution_count": null,
   "metadata": {},
   "outputs": [],
   "source": [
    "# The name of the folder to place the file geodatabase in\n",
    "fgdb_folder_name = source_fgdb_path.stem\n",
    "# The location of the folder to place the file geodatabase in\n",
    "fgdb_folder_location = source_fgdb_path.parent\n",
    "# The path to the folder to place the file geodatabase in\n",
    "fgdb_folder_path = fgdb_folder_location.joinpath(fgdb_folder_name)\n",
    "# The path of our copied file geodatabase\n",
    "fgdb_path = fgdb_folder_path.joinpath(source_fgdb_path.name)"
   ]
  },
  {
   "cell_type": "code",
   "execution_count": null,
   "metadata": {},
   "outputs": [],
   "source": [
    "# Copy the file geodatabase to the new location\n",
    "shutil.copytree(source_fgdb_path, fgdb_path)\n",
    "# Zip the file geodatabase\n",
    "zipped_fgdb = shutil.make_archive(\n",
    "    base_name=fgdb_folder_path,\n",
    "    # The name of the archive, not including the file extension\n",
    "    format=\"zip\", # The archive format\n",
    "    root_dir=fgdb_folder_path, # The directory to archive\n",
    ")"
   ]
  },
  {
   "cell_type": "code",
   "execution_count": null,
   "metadata": {},
   "outputs": [],
   "source": [
    "fgdb_item_properties = {\n",
    "    \"type\": \"File Geodatabase\", # The type of item this will be\n",
    "    \"title\": \"Philadelphia Parking Tickets by Neighborhood\",\n",
    "    # The title of the item\n",
    "    \"description\": \"Parking tickets issued in Philadelphia by neighborhood\",\n",
    "    # The description of the item\n",
    "    \"tags\": \"Philadelphia, Parking, Tickets, Neighborhood\", # Tags for the item\n",
    "}"
   ]
  },
  {
   "cell_type": "code",
   "execution_count": null,
   "metadata": {},
   "outputs": [],
   "source": [
    "my_fgdb_item = my_gis_org.content.add(\n",
    "    item_properties=fgdb_item_properties, # The properties of the item\n",
    "    data=zipped_fgdb, # The path to the zipped file geodatabase\n",
    ")"
   ]
  },
  {
   "cell_type": "code",
   "execution_count": null,
   "metadata": {},
   "outputs": [],
   "source": [
    "fgdb_publish_parameters = {\n",
    "    \"name\": \"Philadelphia Parking Tickets by Neighborhood\",\n",
    "    # The name of the service\n",
    "}"
   ]
  },
  {
   "cell_type": "code",
   "execution_count": null,
   "metadata": {},
   "outputs": [],
   "source": [
    "my_hosted_feature_service_item = my_fgdb_item.publish(\n",
    "    publish_parameters=fgdb_publish_parameters\n",
    ")"
   ]
  },
  {
   "cell_type": "code",
   "execution_count": null,
   "metadata": {},
   "outputs": [],
   "source": [
    "[layer.properties[\"name\"] for layer in my_hosted_feature_service_item.layers]"
   ]
  },
  {
   "cell_type": "code",
   "execution_count": null,
   "metadata": {},
   "outputs": [],
   "source": [
    "parking_tickets_by_neighborhood_layer = my_hosted_feature_service_item.layers[0]"
   ]
  },
  {
   "cell_type": "code",
   "execution_count": null,
   "metadata": {},
   "outputs": [],
   "source": [
    "enriched_layer = analysis.enrich_layer(\n",
    "    input_layer=parking_tickets_by_neighborhood_layer,\n",
    "    # FeatureLayer object to be enriched\n",
    "    analysis_variables=[\n",
    "    \"crime.CRMCYPROC\"\n",
    "    ], # Analysis variables to enrich the input layer with\n",
    "    output_name=\"Philadelphia Parking Tickets by Neighborhood Enriched with Property Crime\", # The name of the output layer\n",
    ")"
   ]
  },
  {
   "cell_type": "code",
   "execution_count": null,
   "metadata": {},
   "outputs": [],
   "source": []
  }
 ],
 "metadata": {
  "kernelspec": {
   "display_name": "Python 3",
   "language": "python",
   "name": "python3"
  },
  "language_info": {
   "codemirror_mode": {
    "name": "ipython",
    "version": 3
   },
   "file_extension": ".py",
   "mimetype": "text/x-python",
   "name": "python",
   "nbconvert_exporter": "python",
   "pygments_lexer": "ipython3",
   "version": "3.11.10"
  }
 },
 "nbformat": 4,
 "nbformat_minor": 2
}
