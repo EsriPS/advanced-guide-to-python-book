{
 "cells": [
  {
   "cell_type": "code",
   "execution_count": 2,
   "metadata": {},
   "outputs": [],
   "source": [
    "import requests\n",
    "from arcgis.gis import GIS\n",
    "from arcgis.features import GeoAccessor\n",
    "import pandas as pd\n",
    "import json"
   ]
  },
  {
   "cell_type": "code",
   "execution_count": null,
   "metadata": {},
   "outputs": [],
   "source": [
    "# set up ArcGIS Online credentials\n",
    "gis = GIS(\"home\")\n",
    "\n",
    "# display my user information\n",
    "gis.users.me"
   ]
  },
  {
   "cell_type": "code",
   "execution_count": 4,
   "metadata": {},
   "outputs": [],
   "source": [
    "url = \"https://phl.carto.com/api/v2/sql\"\n",
    "params = {\n",
    "    \"q\": \"SELECT * FROM public_cases_fc WHERE requested_datetime >= current_date - 7 AND subject = 'Illegal Dumping'\",\n",
    "}\n",
    "\n",
    "response = requests.get(url, params=params)\n",
    "data = response.json()"
   ]
  },
  {
   "cell_type": "code",
   "execution_count": 5,
   "metadata": {},
   "outputs": [],
   "source": [
    "# Convert the data to a data frame\n",
    "df = pd.DataFrame(data[\"rows\"])"
   ]
  },
  {
   "cell_type": "code",
   "execution_count": 6,
   "metadata": {},
   "outputs": [],
   "source": [
    "# Convert the DataFrame to a spatially enabled data frame\n",
    "sedf = pd.DataFrame.spatial.from_xy(df, x_column=\"lon\", y_column=\"lat\")\n"
   ]
  },
  {
   "cell_type": "code",
   "execution_count": 7,
   "metadata": {},
   "outputs": [],
   "source": [
    "# Convert object columns to string\n",
    "sedf[[\"subject\", \"status\", \"status_notes\", \"service_name\", \"service_code\", \"agency_responsible\", \"service_notice\", \"requested_datetime\", \"updated_datetime\", \"expected_datetime\", \"closed_datetime\", \"address\", \"zipcode\", \"media_url\"]] = sedf[[\"subject\", \"status\", \"status_notes\", \"service_name\", \"service_code\", \"agency_responsible\", \"service_notice\", \"requested_datetime\", \"updated_datetime\", \"expected_datetime\", \"closed_datetime\", \"address\", \"zipcode\", \"media_url\"]].astype(str)"
   ]
  },
  {
   "cell_type": "code",
   "execution_count": 8,
   "metadata": {},
   "outputs": [],
   "source": [
    "# Publish the data\n",
    "new_item = GeoAccessor(sedf).to_featurelayer(gis = gis, title='illegal_dumping')"
   ]
  },
  {
   "cell_type": "code",
   "execution_count": null,
   "metadata": {},
   "outputs": [],
   "source": [
    "new_item.id"
   ]
  }
 ],
 "metadata": {
  "kernelspec": {
   "display_name": "Python 3",
   "language": "python",
   "name": "python3"
  },
  "language_info": {
   "codemirror_mode": {
    "name": "ipython",
    "version": 3
   },
   "file_extension": ".py",
   "mimetype": "text/x-python",
   "name": "python",
   "nbconvert_exporter": "python",
   "pygments_lexer": "ipython3",
   "version": "3.11.10"
  }
 },
 "nbformat": 4,
 "nbformat_minor": 2
}
