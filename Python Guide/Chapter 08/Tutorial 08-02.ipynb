{
 "cells": [
  {
   "cell_type": "code",
   "execution_count": null,
   "id": "9f19fe0d",
   "metadata": {
    "hidden": true
   },
   "outputs": [],
   "source": [
    "import pandas\n",
    "import arcgis\n",
    "\n",
    "# read the 311 CSV\n",
    "df_311 = pandas.read_csv(\"./311_cases.csv\")\n",
    "\n",
    "# drop the DELETE columns\n",
    "drop_cols = [c for c in df_311.columns if \"DELETE\" in c]\n",
    "df_311 = df_311.drop(columns = drop_cols)\n",
    "\n",
    "# exclude any records with invalid Latitude/Longitude\n",
    "df_311 = df_311[df_311['Latitude'] > 0]\n",
    "\n",
    "# convert Opened/Closed to datetime\n",
    "df_311['Opened'] = pandas.to_datetime(df_311['Opened'])\n",
    "\n",
    "df_311['Closed'] = pandas.to_datetime(df_311['Closed'])\n",
    "\n",
    "# subtract the Opened time from the Closed time to get the OpenTime duration\n",
    "df_311['OpenTime'] = df_311['Closed'] - df_311['Opened']"
   ]
  },
  {
   "cell_type": "code",
   "execution_count": 2,
   "id": "fe754915",
   "metadata": {
    "hidden": true
   },
   "outputs": [],
   "source": [
    "df_311 = pandas.DataFrame.spatial.from_xy(\n",
    "    df = df_311,\n",
    "    x_column = 'Longitude', \n",
    "    y_column = 'Latitude',\n",
    "    sr = 4326\n",
    ")"
   ]
  },
  {
   "cell_type": "code",
   "execution_count": null,
   "id": "aa778ed3",
   "metadata": {
    "hidden": true,
    "scrolled": true
   },
   "outputs": [],
   "source": [
    "df_311[['Latitude','Longitude','SHAPE']].head()"
   ]
  },
  {
   "cell_type": "code",
   "execution_count": 4,
   "id": "c8205d5e",
   "metadata": {
    "hidden": true
   },
   "outputs": [],
   "source": [
    "df_cbg = pandas.DataFrame.spatial.from_featureclass(\n",
    "    \"./Tutorial_08.gdb/Census_Block_Groups\"\n",
    ")"
   ]
  },
  {
   "cell_type": "code",
   "execution_count": null,
   "id": "210bb742",
   "metadata": {
    "hidden": true
   },
   "outputs": [],
   "source": [
    "df_cbg.head()"
   ]
  },
  {
   "cell_type": "code",
   "execution_count": 6,
   "id": "75e70f7a",
   "metadata": {
    "hidden": true
   },
   "outputs": [],
   "source": [
    "df_join = df_311.spatial.join(\n",
    "    right_df = df_cbg,\n",
    "    how = 'left',\n",
    "    op = 'intersects',\n",
    ")"
   ]
  },
  {
   "cell_type": "code",
   "execution_count": null,
   "id": "1ed67f5b",
   "metadata": {
    "hidden": true,
    "scrolled": true
   },
   "outputs": [],
   "source": [
    "df_join[pandas.isnull(df_join.geoid)]"
   ]
  },
  {
   "cell_type": "code",
   "execution_count": null,
   "id": "dc7ceef6",
   "metadata": {
    "hidden": true
   },
   "outputs": [],
   "source": [
    "# create a GIS object\n",
    "gis = arcgis.GIS()\n",
    "\n",
    "# create a map and set our Area of Interest\n",
    "qc_map = gis.map(\"San Francisco, CA\")\n",
    "\n",
    "# plot the census block groups\n",
    "df_cbg.spatial.plot(\n",
    "    colors=\"#fafafa\",\n",
    "    map_widget = qc_map,\n",
    ")\n",
    "\n",
    "# narrow down the 311 records to the one that didn't join\n",
    "null_record = df_join[pandas.isnull(df_join.geoid)][['SHAPE','geoid']]\n",
    "\n",
    "\n",
    "\n",
    "# plot the null record\n",
    "null_record.spatial.plot(map_widget=qc_map)\n",
    "\n",
    "qc_map"
   ]
  },
  {
   "cell_type": "code",
   "execution_count": 9,
   "id": "0aa91c54",
   "metadata": {
    "hidden": true
   },
   "outputs": [],
   "source": [
    "df_cbg_summary = df_join.groupby(\"geoid\").agg(\n",
    "    {\n",
    "        \"OpenTime\": \"mean\",\n",
    "        \"CaseID\": \"count\"\n",
    "    }\n",
    ")"
   ]
  },
  {
   "cell_type": "code",
   "execution_count": null,
   "id": "2152ec8b",
   "metadata": {
    "hidden": true
   },
   "outputs": [],
   "source": [
    "df_cbg_summary.dtypes"
   ]
  },
  {
   "cell_type": "code",
   "execution_count": 11,
   "id": "a710fc1e",
   "metadata": {
    "hidden": true
   },
   "outputs": [],
   "source": [
    "df_cbg_summary['OpenTime'] = df_cbg_summary['OpenTime'].dt.days"
   ]
  },
  {
   "cell_type": "code",
   "execution_count": null,
   "id": "12c2c1ee",
   "metadata": {
    "hidden": true
   },
   "outputs": [],
   "source": [
    "df_cbg_summary.dtypes"
   ]
  },
  {
   "cell_type": "code",
   "execution_count": 13,
   "id": "025f0d52",
   "metadata": {
    "hidden": true
   },
   "outputs": [],
   "source": [
    "df_cbg_summary = df_cbg.merge(\n",
    "    df_cbg_summary, \n",
    "    how = 'left', \n",
    "    left_on = 'geoid', \n",
    "    right_on = 'geoid'\n",
    ")"
   ]
  },
  {
   "cell_type": "code",
   "execution_count": null,
   "id": "c1cc65f6",
   "metadata": {
    "hidden": true,
    "scrolled": true
   },
   "outputs": [],
   "source": [
    "df_cbg_summary.head()"
   ]
  },
  {
   "cell_type": "code",
   "execution_count": null,
   "id": "466694d2",
   "metadata": {
    "hidden": true
   },
   "outputs": [],
   "source": [
    "# create a new WebMap object\n",
    "gis = arcgis.GIS()\n",
    "cbg_map = gis.map(\"San Francisco, CA\")\n",
    "\n",
    "# exclude any null OpenTime values (in the middle of the bay)\n",
    "df_to_map = df_cbg_summary[pandas.notna(df_cbg_summary.OpenTime)]\n",
    "\n",
    "# plot the summary on the map\n",
    "df_to_map.spatial.plot(map_widget=cbg_map)\n",
    "\n",
    "# add a legend\n",
    "cbg_map.legend.enabled = True\n",
    "\n",
    "cbg_map"
   ]
  },
  {
   "cell_type": "code",
   "execution_count": 19,
   "id": "297a8ea6",
   "metadata": {},
   "outputs": [],
   "source": [
    "# get the renderer for the census block layer\n",
    "renderer_manager = cbg_map.content.renderer(0)\n",
    "\n",
    "# use the smart mapping capabilities to create a class breaks renderer\n",
    "smart_mapper = renderer_manager.smart_mapping()\n",
    "\n",
    "smart_mapper.class_breaks_renderer(\n",
    "    break_type = 'color',\n",
    "    field = 'OpenTime',\n",
    "    classification_method = 'natural-breaks',\n",
    "    num_classes = 5,\n",
    ")"
   ]
  },
  {
   "cell_type": "code",
   "execution_count": null,
   "id": "4fe6e20d",
   "metadata": {
    "hidden": true
   },
   "outputs": [],
   "source": [
    "df_cbg_summary.spatial.to_featureclass(\n",
    "    \"./Tutorial_08.gdb/OpenTime_311_Cases_by_CBG\"\n",
    ")"
   ]
  },
  {
   "cell_type": "markdown",
   "id": "6f3c7172",
   "metadata": {},
   "source": [
    "Copyright 2025 Esri"
   ]
  }
 ],
 "metadata": {
  "kernelspec": {
   "display_name": "Python 3",
   "language": "python",
   "name": "python3"
  },
  "language_info": {
   "codemirror_mode": {
    "name": "ipython",
    "version": 3
   },
   "file_extension": ".py",
   "mimetype": "text/x-python",
   "name": "python",
   "nbconvert_exporter": "python",
   "pygments_lexer": "ipython3",
   "version": "3.11.10"
  }
 },
 "nbformat": 4,
 "nbformat_minor": 5
}
