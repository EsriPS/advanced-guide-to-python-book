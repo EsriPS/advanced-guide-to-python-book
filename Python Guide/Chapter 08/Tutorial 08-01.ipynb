{
 "cells": [
  {
   "cell_type": "code",
   "execution_count": null,
   "id": "039e8721",
   "metadata": {
    "hidden": true
   },
   "outputs": [],
   "source": [
    "import pandas\n",
    "\n",
    "df = pandas.read_csv(\"./311_cases.csv\")"
   ]
  },
  {
   "cell_type": "code",
   "execution_count": null,
   "id": "90b0367c",
   "metadata": {
    "hidden": true
   },
   "outputs": [],
   "source": [
    "df.shape"
   ]
  },
  {
   "cell_type": "code",
   "execution_count": null,
   "id": "4d82aa68",
   "metadata": {
    "hidden": true
   },
   "outputs": [],
   "source": [
    "df.dtypes"
   ]
  },
  {
   "cell_type": "code",
   "execution_count": null,
   "id": "afa48d88",
   "metadata": {
    "hidden": true
   },
   "outputs": [],
   "source": [
    "drop_cols = [c for c in df.columns if \"DELETE\" in c]\n",
    "drop_cols"
   ]
  },
  {
   "cell_type": "code",
   "execution_count": null,
   "id": "acd02915",
   "metadata": {
    "hidden": true
   },
   "outputs": [],
   "source": [
    "df = df.drop(columns = drop_cols)"
   ]
  },
  {
   "cell_type": "code",
   "execution_count": null,
   "id": "12410693",
   "metadata": {
    "hidden": true
   },
   "outputs": [],
   "source": [
    "df['Latitude'].describe()"
   ]
  },
  {
   "cell_type": "code",
   "execution_count": null,
   "id": "3f73c356",
   "metadata": {
    "hidden": true
   },
   "outputs": [],
   "source": [
    "df[df['Latitude'] == 0]"
   ]
  },
  {
   "cell_type": "code",
   "execution_count": null,
   "id": "275b3efc",
   "metadata": {
    "hidden": true
   },
   "outputs": [],
   "source": [
    "df = df[df['Latitude'] > 0]"
   ]
  },
  {
   "cell_type": "code",
   "execution_count": null,
   "id": "fdf796e9",
   "metadata": {
    "hidden": true,
    "scrolled": true
   },
   "outputs": [],
   "source": [
    "# showing \"Opened\" as a string/object type\n",
    "df['Opened']"
   ]
  },
  {
   "cell_type": "code",
   "execution_count": null,
   "id": "a1f05e1e",
   "metadata": {
    "hidden": true
   },
   "outputs": [],
   "source": [
    "pandas.to_datetime(df['Opened'])"
   ]
  },
  {
   "cell_type": "code",
   "execution_count": null,
   "id": "2bf597b7",
   "metadata": {
    "hidden": true
   },
   "outputs": [],
   "source": [
    "df['Opened'] = pandas.to_datetime(df['Opened'])\n",
    "df['Closed'] = pandas.to_datetime(df['Closed'])"
   ]
  },
  {
   "cell_type": "code",
   "execution_count": null,
   "id": "f09efc7a",
   "metadata": {
    "hidden": true
   },
   "outputs": [],
   "source": [
    "df['Closed'] - df['Opened']"
   ]
  },
  {
   "cell_type": "code",
   "execution_count": null,
   "id": "6318a675",
   "metadata": {
    "hidden": true
   },
   "outputs": [],
   "source": [
    "df['OpenTime'] = df['Closed'] - df['Opened']"
   ]
  },
  {
   "cell_type": "code",
   "execution_count": null,
   "id": "2582292c",
   "metadata": {
    "hidden": true
   },
   "outputs": [],
   "source": [
    "df_neighborhood = df.groupby(\"Neighborhood\").agg(\n",
    "    {\n",
    "        \"OpenTime\": \"mean\",\n",
    "        \"CaseID\": \"count\"\n",
    "    }\n",
    ")"
   ]
  },
  {
   "cell_type": "code",
   "execution_count": null,
   "id": "713a0e06",
   "metadata": {
    "hidden": true
   },
   "outputs": [],
   "source": [
    "df_neighborhood.to_csv(\"./311_neighborhood.csv\")"
   ]
  },
  {
   "cell_type": "markdown",
   "id": "4f37ad1a",
   "metadata": {},
   "source": [
    "Copyright 2025 Esri"
   ]
  }
 ],
 "metadata": {
  "kernelspec": {
   "display_name": "Python 3",
   "language": "python",
   "name": "python3"
  },
  "language_info": {
   "codemirror_mode": {
    "name": "ipython",
    "version": 3
   },
   "file_extension": ".py",
   "mimetype": "text/x-python",
   "name": "python",
   "nbconvert_exporter": "python",
   "pygments_lexer": "ipython3",
   "version": "3.11.10"
  }
 },
 "nbformat": 4,
 "nbformat_minor": 5
}
