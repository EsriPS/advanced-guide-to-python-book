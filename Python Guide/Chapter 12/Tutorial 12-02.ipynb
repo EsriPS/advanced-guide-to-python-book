{
 "cells": [
  {
   "cell_type": "code",
   "execution_count": 1,
   "id": "e19fe9da",
   "metadata": {
    "hidden": true
   },
   "outputs": [],
   "source": [
    "import arcpy\n",
    "import sqlite3\n",
    "import pandas as pd\n",
    "import os\n",
    "import arcgis"
   ]
  },
  {
   "cell_type": "code",
   "execution_count": null,
   "id": "08c56ca3",
   "metadata": {
    "hidden": true
   },
   "outputs": [],
   "source": [
    "# this is the folder that this notebook is in. \n",
    "# you could change this if you want to do this work elsewhere\n",
    "folder = os.path.abspath('')\n",
    "folder"
   ]
  },
  {
   "cell_type": "code",
   "execution_count": 3,
   "id": "f0841e7e",
   "metadata": {
    "hidden": true
   },
   "outputs": [],
   "source": [
    "# create an sqlite geodatabase with ST Geometry type\n",
    "sl_db = arcpy.management.CreateSQLiteDatabase(\n",
    "    out_database_name = os.path.join(folder, 'data'),\n",
    "    spatial_type = \"ST_GEOMETRY\"\n",
    ")"
   ]
  },
  {
   "cell_type": "code",
   "execution_count": 4,
   "id": "671e6a14",
   "metadata": {
    "hidden": true
   },
   "outputs": [],
   "source": [
    "# extract the path from the Result object\n",
    "sl_db_path = sl_db[0]"
   ]
  },
  {
   "cell_type": "code",
   "execution_count": null,
   "id": "2fe267ab",
   "metadata": {
    "hidden": true
   },
   "outputs": [],
   "source": [
    "# path to the source data in the file geodatabase\n",
    "source_fc = os.path.join(folder, 'Counties.gdb', 'Counties')\n",
    "\n",
    "# path to the destination data in the sqlite geodatabase\n",
    "destination_fc = os.path.join(sl_db_path, \"Counties\")\n",
    "\n",
    "# export the data\n",
    "fc_counties = arcpy.conversion.ExportFeatures(\n",
    "    source_fc,\n",
    "    destination_fc\n",
    ")"
   ]
  },
  {
   "cell_type": "code",
   "execution_count": null,
   "id": "7e5777a2",
   "metadata": {
    "hidden": true
   },
   "outputs": [],
   "source": [
    "# walk the sqlite database and print data table names\n",
    "for root, dirs, files in arcpy.da.Walk(sl_db):\n",
    "    for dir in dirs:\n",
    "        print(dir)\n",
    "    for file in files:\n",
    "        print(file)"
   ]
  },
  {
   "cell_type": "code",
   "execution_count": null,
   "id": "ea7f99ad",
   "metadata": {
    "hidden": true
   },
   "outputs": [],
   "source": [
    "# set up a direct connection to the sqlite database\n",
    "sl_conn = sqlite3.connect(sl_db_path)\n",
    "sl_conn"
   ]
  },
  {
   "cell_type": "code",
   "execution_count": 8,
   "id": "2fe66502",
   "metadata": {
    "hidden": true
   },
   "outputs": [],
   "source": [
    "# create a cursor\n",
    "sl_cursor = sl_conn.cursor()"
   ]
  },
  {
   "cell_type": "code",
   "execution_count": null,
   "id": "3f6ccc37",
   "metadata": {
    "hidden": true
   },
   "outputs": [],
   "source": [
    "# use the cursor to execute SQL statement\n",
    "sl_cursor.execute(\"select * from sqlite_master\")"
   ]
  },
  {
   "cell_type": "code",
   "execution_count": 10,
   "id": "d5cfddfe",
   "metadata": {
    "hidden": true
   },
   "outputs": [],
   "source": [
    "# retrieve the results\n",
    "results = sl_cursor.fetchall()"
   ]
  },
  {
   "cell_type": "code",
   "execution_count": null,
   "id": "2e2277b8",
   "metadata": {
    "hidden": true
   },
   "outputs": [],
   "source": [
    "print(f\"results type: {type(results)}\")\n",
    "print(f\"length of results: {len(results)}\")\n",
    "print(f\"first item type: {type(results[0])}\")\n",
    "print(f\"first item length: {len(results[0])}\")"
   ]
  },
  {
   "cell_type": "code",
   "execution_count": null,
   "id": "5e6742b6",
   "metadata": {
    "hidden": true
   },
   "outputs": [],
   "source": [
    "results[0]"
   ]
  },
  {
   "cell_type": "code",
   "execution_count": null,
   "id": "7eec2cb8",
   "metadata": {
    "hidden": true
   },
   "outputs": [],
   "source": [
    "# use pandas to read an sql query\n",
    "df_db_objects = pd.read_sql(\"select * from sqlite_master\", sl_conn)\n",
    "df_db_objects"
   ]
  },
  {
   "cell_type": "code",
   "execution_count": null,
   "id": "f2ad0558",
   "metadata": {
    "hidden": true,
    "scrolled": true
   },
   "outputs": [],
   "source": [
    "# path to csv file\n",
    "csv_path = r\".\\block_groups.csv\"\n",
    "\n",
    "# read the csv\n",
    "df_block_groups = pd.read_csv(csv_path, dtype={'GEOID':str})\n",
    "df_block_groups"
   ]
  },
  {
   "cell_type": "code",
   "execution_count": null,
   "id": "a58ecfc2",
   "metadata": {
    "hidden": true
   },
   "outputs": [],
   "source": [
    "# trim the GEOID to five characters (county GEOID)\n",
    "df_block_groups['GEOID'].str[:5]"
   ]
  },
  {
   "cell_type": "code",
   "execution_count": 16,
   "id": "8d42effc",
   "metadata": {
    "hidden": true
   },
   "outputs": [],
   "source": [
    "# create a new column representing the county GEOID\n",
    "df_block_groups['county_geoid'] = df_block_groups['GEOID'].str[:5]"
   ]
  },
  {
   "cell_type": "code",
   "execution_count": null,
   "id": "2a822ee1",
   "metadata": {
    "hidden": true
   },
   "outputs": [],
   "source": [
    "# write the census block dataframe into the database\n",
    "df_block_groups.to_sql(\n",
    "    name = \"BlockGroups\", \n",
    "    con = sl_conn, \n",
    "    index = False\n",
    ")"
   ]
  },
  {
   "cell_type": "code",
   "execution_count": 18,
   "id": "c5663134",
   "metadata": {
    "hidden": true
   },
   "outputs": [],
   "source": [
    "# SQL statement for summarizing the population and housing units by county\n",
    "sql = \"\"\"\n",
    "SELECT\n",
    "    county_geoid,\n",
    "    SUM(Population) as county_population,\n",
    "    SUM(Housing_Units) as county_housing_units\n",
    "FROM\n",
    "    BlockGroups\n",
    "GROUP BY\n",
    "    county_geoid\n",
    "\n",
    "\"\"\""
   ]
  },
  {
   "cell_type": "code",
   "execution_count": null,
   "id": "36b86da1",
   "metadata": {
    "hidden": true,
    "scrolled": true
   },
   "outputs": [],
   "source": [
    "pd.read_sql(sql, sl_conn).head()"
   ]
  },
  {
   "cell_type": "code",
   "execution_count": null,
   "id": "4515df2f",
   "metadata": {
    "hidden": true
   },
   "outputs": [],
   "source": [
    "# create a view from the previous select statement\n",
    "sql_summary_view = \"\"\"\n",
    "CREATE VIEW CountyStats AS\n",
    "SELECT\n",
    "    county_geoid,\n",
    "    SUM(Population) as county_population,\n",
    "    SUM(Housing_Units) as county_housing_units\n",
    "FROM\n",
    "    BlockGroups\n",
    "GROUP BY\n",
    "    county_geoid\n",
    "\n",
    "\"\"\"\n",
    "sl_cursor.execute(sql_summary_view)"
   ]
  },
  {
   "cell_type": "code",
   "execution_count": null,
   "id": "5220eb52",
   "metadata": {
    "hidden": true
   },
   "outputs": [],
   "source": [
    "# read the data from the view\n",
    "pd.read_sql(\"select * from CountyStats\", sl_conn).head()"
   ]
  },
  {
   "cell_type": "code",
   "execution_count": 22,
   "id": "b982b967",
   "metadata": {
    "hidden": true
   },
   "outputs": [],
   "source": [
    "# SQL statement creating a joined table with the spatial and non spatial data\n",
    "sql_join = \"\"\"\n",
    "CREATE VIEW CountyStatsSpatial AS\n",
    "SELECT\n",
    "    fc.OBJECTID,\n",
    "    fc.name,\n",
    "    tbl.county_population,\n",
    "    tbl.county_housing_units,\n",
    "    fc.shape\n",
    "FROM\n",
    "    Counties fc\n",
    "    JOIN\n",
    "        CountyStats tbl\n",
    "    ON\n",
    "        fc.geoid = tbl.county_geoid\n",
    "\"\"\""
   ]
  },
  {
   "cell_type": "code",
   "execution_count": null,
   "id": "8f690db1",
   "metadata": {
    "hidden": true
   },
   "outputs": [],
   "source": [
    "# use the cursor to execute the SQL statement\n",
    "sl_cursor.execute(sql_join)"
   ]
  },
  {
   "cell_type": "code",
   "execution_count": null,
   "id": "5c853c99",
   "metadata": {
    "hidden": true
   },
   "outputs": [],
   "source": [
    "# read the data from the view to validate\n",
    "pd.read_sql(\"select * from CountyStatsSpatial\", sl_conn).head()"
   ]
  },
  {
   "cell_type": "code",
   "execution_count": null,
   "id": "79b09b64",
   "metadata": {
    "hidden": true
   },
   "outputs": [],
   "source": [
    "# use pandas and the arcgis spatial accessor to read spatial view\n",
    "df_out = pd.DataFrame.spatial.from_featureclass(\n",
    "    os.path.join(sl_db[0],\"main.CountyStatsSpatial\")\n",
    ")\n",
    "df_out.head()"
   ]
  },
  {
   "cell_type": "code",
   "execution_count": null,
   "id": "648f5764",
   "metadata": {
    "hidden": true
   },
   "outputs": [],
   "source": [
    "# create a web map\n",
    "web_map = arcgis.GIS().map(\"California\")\n",
    "\n",
    "# add the data\n",
    "df_out.spatial.plot(map_widget=web_map)\n",
    "\n",
    "# display the web map\n",
    "web_map"
   ]
  },
  {
   "cell_type": "code",
   "execution_count": 28,
   "id": "d563ca85",
   "metadata": {},
   "outputs": [],
   "source": [
    "# get the renderer for the county layer\n",
    "renderer_manager = web_map.content.renderer(0)\n",
    "\n",
    "# use smart mapping\n",
    "smart_mapper = renderer_manager.smart_mapping()\n",
    "\n",
    "# create a class breaks renderer\n",
    "smart_mapper.class_breaks_renderer(\n",
    "    break_type = 'color',\n",
    "    field = 'county_housing_units',\n",
    "    classification_method = 'natural-breaks',\n",
    "    num_classes = 10\n",
    ")"
   ]
  },
  {
   "cell_type": "markdown",
   "id": "86aeb9f8",
   "metadata": {},
   "source": [
    "Copyright 2025 Esri"
   ]
  }
 ],
 "metadata": {
  "kernelspec": {
   "display_name": "Python 3",
   "language": "python",
   "name": "python3"
  },
  "language_info": {
   "codemirror_mode": {
    "name": "ipython",
    "version": 3
   },
   "file_extension": ".py",
   "mimetype": "text/x-python",
   "name": "python",
   "nbconvert_exporter": "python",
   "pygments_lexer": "ipython3",
   "version": "3.11.10"
  }
 },
 "nbformat": 4,
 "nbformat_minor": 5
}
