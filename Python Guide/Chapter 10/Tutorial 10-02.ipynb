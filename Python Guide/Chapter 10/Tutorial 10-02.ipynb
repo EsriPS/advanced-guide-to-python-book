{
 "cells": [
  {
   "cell_type": "code",
   "execution_count": 24,
   "id": "4181d87c",
   "metadata": {
    "hidden": true
   },
   "outputs": [],
   "source": [
    "import arcpy\n",
    "import os\n",
    "import shutil\n",
    "import pathlib\n",
    "import multiprocessing"
   ]
  },
  {
   "cell_type": "code",
   "execution_count": 25,
   "id": "54166e5f",
   "metadata": {
    "hidden": true
   },
   "outputs": [],
   "source": [
    "# input file geodatabase path\n",
    "input_fgdb = r\".\\Chapter 10.gdb\"\n",
    "\n",
    "# input feature class name\n",
    "input_fc_name = \"Highways_intersect\"\n",
    "\n",
    "# output folder\n",
    "output_folder = r\".\\zipped_outputs\""
   ]
  },
  {
   "cell_type": "code",
   "execution_count": 26,
   "id": "18401ae0",
   "metadata": {
    "hidden": true
   },
   "outputs": [],
   "source": [
    "full_fc_path = os.path.join(\n",
    "    input_fgdb, input_fc_name\n",
    ")"
   ]
  },
  {
   "cell_type": "code",
   "execution_count": null,
   "id": "943fda2e",
   "metadata": {
    "hidden": true
   },
   "outputs": [],
   "source": [
    "arcpy.Exists(full_fc_path)"
   ]
  },
  {
   "cell_type": "code",
   "execution_count": null,
   "id": "01893012",
   "metadata": {
    "hidden": true
   },
   "outputs": [],
   "source": [
    "counties = [r[0] for r in arcpy.da.SearchCursor(full_fc_path, ['NAMELSAD'])]\n",
    "len(counties)"
   ]
  },
  {
   "cell_type": "code",
   "execution_count": null,
   "id": "bcbeaff7",
   "metadata": {
    "hidden": true
   },
   "outputs": [],
   "source": [
    "counties = list(set(counties))\n",
    "counties.sort()\n",
    "counties"
   ]
  },
  {
   "cell_type": "code",
   "execution_count": 30,
   "id": "08155619",
   "metadata": {
    "hidden": true
   },
   "outputs": [],
   "source": [
    "if not os.path.exists(output_folder):\n",
    "    os.mkdir(output_folder)"
   ]
  },
  {
   "cell_type": "code",
   "execution_count": null,
   "id": "dc6e8abe",
   "metadata": {
    "hidden": true
   },
   "outputs": [],
   "source": [
    "county = counties[0]\n",
    "county"
   ]
  },
  {
   "cell_type": "code",
   "execution_count": null,
   "id": "6a8b45c3",
   "metadata": {
    "hidden": true
   },
   "outputs": [],
   "source": [
    "county_no_spaces = county.replace(\" \", \"_\")\n",
    "county_no_spaces"
   ]
  },
  {
   "cell_type": "code",
   "execution_count": null,
   "id": "093e9c53",
   "metadata": {
    "hidden": true
   },
   "outputs": [],
   "source": [
    "fgdb = arcpy.management.CreateFileGDB(\n",
    "    out_folder_path = output_folder,\n",
    "    out_name = f\"{county_no_spaces}_Output\"\n",
    ")\n",
    "\n",
    "fgdb"
   ]
  },
  {
   "cell_type": "code",
   "execution_count": null,
   "id": "9462620b",
   "metadata": {
    "hidden": true
   },
   "outputs": [],
   "source": [
    "fgdb[0]"
   ]
  },
  {
   "cell_type": "code",
   "execution_count": null,
   "id": "4dfb6d03",
   "metadata": {
    "hidden": true
   },
   "outputs": [],
   "source": [
    "output_fc = arcpy.conversion.ExportFeatures(\n",
    "    in_features = full_fc_path,\n",
    "    out_features = os.path.join(fgdb[0], \n",
    "                                f\"{county_no_spaces}_Highways\"),\n",
    "    where_clause = f\"NAMELSAD = '{county}'\"\n",
    ")\n",
    "output_fc[0]"
   ]
  },
  {
   "cell_type": "code",
   "execution_count": null,
   "id": "9a0b46f1",
   "metadata": {},
   "outputs": [],
   "source": [
    "arcpy.management.GetCount(output_fc[0])"
   ]
  },
  {
   "cell_type": "code",
   "execution_count": 37,
   "id": "39ca0edb",
   "metadata": {},
   "outputs": [],
   "source": [
    "# get the path for the file geodatabase you created\n",
    "source_fgdb_path = pathlib.Path(fgdb[0])\n",
    "\n",
    "# The name of the folder to place the File Geodatabase in\n",
    "fgdb_folder_name = source_fgdb_path.stem\n",
    "# The location of the folder to place the File Geodatabase in\n",
    "fgdb_folder_location = source_fgdb_path.parent\n",
    "# The path to the folder to place the File Geodatabase in\n",
    "fgdb_folder_path = fgdb_folder_location.joinpath(fgdb_folder_name)\n",
    "# The path of our copied File Geodatabase\n",
    "fgdb_path = fgdb_folder_path.joinpath(source_fgdb_path.name)\n"
   ]
  },
  {
   "cell_type": "code",
   "execution_count": null,
   "id": "e7725783",
   "metadata": {},
   "outputs": [],
   "source": [
    "fgdb_path"
   ]
  },
  {
   "cell_type": "code",
   "execution_count": null,
   "id": "38e2d9ed",
   "metadata": {},
   "outputs": [],
   "source": [
    "shutil.copytree(\n",
    "    source_fgdb_path, \n",
    "    fgdb_path, \n",
    "    ignore=shutil.ignore_patterns('*.lock')\n",
    "    )"
   ]
  },
  {
   "cell_type": "code",
   "execution_count": 40,
   "id": "30f3cc7e",
   "metadata": {},
   "outputs": [],
   "source": [
    "\n",
    "# Zip the File Geodatabase\n",
    "zipped_fgdb = shutil.make_archive(\n",
    "    base_name = fgdb_folder_path,  # The name of the archive, not including the file extension\n",
    "    format = \"zip\",  # The archive format\n",
    "    root_dir = fgdb_folder_path,  # The directory to archive\n",
    ") \n"
   ]
  },
  {
   "cell_type": "code",
   "execution_count": null,
   "id": "1f42e0d1",
   "metadata": {
    "hidden": true
   },
   "outputs": [],
   "source": [
    "arcpy.management.Delete(fgdb)"
   ]
  },
  {
   "cell_type": "code",
   "execution_count": 42,
   "id": "1879853a",
   "metadata": {},
   "outputs": [],
   "source": [
    "shutil.rmtree(fgdb_folder_path)"
   ]
  },
  {
   "cell_type": "code",
   "execution_count": 43,
   "id": "584c9380",
   "metadata": {
    "hidden": true
   },
   "outputs": [],
   "source": [
    "def zip_county_highways(full_fc_path, output_folder, county):\n",
    "    '''\n",
    "    This function creates a zip file containing a file geodatabase with \n",
    "    a feature class containing only the highways for a specific county.\n",
    "\n",
    "    Parameters:\n",
    "        full_fc_path (str): The full path to the input feature class\n",
    "        output_folder (str): The path to the output folder\n",
    "        county (str): The name of the county to extract highways for\n",
    "\n",
    "    Returns:\n",
    "        str: The path to the zipped file geodatabase\n",
    "    '''\n",
    "    \n",
    "    # remove spaces from county name\n",
    "    county_no_spaces = county.replace(\" \", \"_\")\n",
    "    \n",
    "    # create a file geodatabase\n",
    "    fgdb = arcpy.management.CreateFileGDB(\n",
    "        out_folder_path = output_folder,\n",
    "        out_name = f\"{county_no_spaces}_Output\"\n",
    "    )\n",
    "\n",
    "    # Create a feature class\n",
    "    output_fc = arcpy.conversion.ExportFeatures(\n",
    "        in_features = full_fc_path,\n",
    "        out_features = os.path.join(fgdb[0], \n",
    "                                    f\"{county_no_spaces}_Highways\"),\n",
    "        where_clause = f\"NAMELSAD = '{county}'\"\n",
    "    )\n",
    "    \n",
    "    source_fgdb_path = pathlib.Path(fgdb[0])\n",
    "\n",
    "    # The name of the folder to place the File Geodatabase in\n",
    "    fgdb_folder_name = source_fgdb_path.stem\n",
    "    # The location of the folder to place the File Geodatabase in\n",
    "    fgdb_folder_location = source_fgdb_path.parent\n",
    "    # The path to the folder to place the File Geodatabase in\n",
    "    fgdb_folder_path = fgdb_folder_location.joinpath(fgdb_folder_name)\n",
    "    # The path of our copied File Geodatabase\n",
    "    fgdb_path = fgdb_folder_path.joinpath(source_fgdb_path.name)\n",
    "\n",
    "    # copy the file geodatabase into a temp folder\n",
    "    shutil.copytree(\n",
    "        source_fgdb_path, \n",
    "        fgdb_path, \n",
    "        ignore=shutil.ignore_patterns('*.lock')\n",
    "    )\n",
    "\n",
    "    # Zip the File Geodatabase\n",
    "    zipped_fgdb = shutil.make_archive(\n",
    "        base_name=fgdb_folder_path,  # The name of the archive, not including the file extension\n",
    "        format=\"zip\",  # The archive format\n",
    "        root_dir=fgdb_folder_path,  # The directory to archive\n",
    "    ) \n",
    "\n",
    "    # delete the file geodatabase\n",
    "    arcpy.management.Delete(fgdb)\n",
    "\n",
    "    # remove the temp folder\n",
    "    shutil.rmtree(fgdb_folder_path)\n",
    "    \n",
    "    # return the zip file path\n",
    "    return zipped_fgdb"
   ]
  },
  {
   "cell_type": "code",
   "execution_count": null,
   "id": "aad190ea",
   "metadata": {
    "hidden": true
   },
   "outputs": [],
   "source": [
    "zip_county_highways(full_fc_path, output_folder, \"Butte County\")"
   ]
  },
  {
   "cell_type": "code",
   "execution_count": null,
   "id": "09d8f1b2",
   "metadata": {
    "hidden": true,
    "scrolled": true
   },
   "outputs": [],
   "source": [
    "multiprocessing.cpu_count()"
   ]
  },
  {
   "cell_type": "code",
   "execution_count": null,
   "id": "7eb91c2d",
   "metadata": {
    "hidden": true
   },
   "outputs": [],
   "source": [
    "def zip_county_highways(full_fc_path, output_folder, county):\n",
    "    '''\n",
    "    This function creates a zip file containing a file geodatabase with \n",
    "    a feature class containing only the highways for a specific county.\n",
    "\n",
    "    Parameters:\n",
    "        full_fc_path (str): The full path to the input feature class\n",
    "        output_folder (str): The path to the output folder\n",
    "        county (str): The name of the county to extract highways for\n",
    "\n",
    "    Returns:\n",
    "        str: The path to the zipped file geodatabase\n",
    "    '''\n",
    "    \n",
    "    # remove spaces from county name\n",
    "    county_no_spaces = county.replace(\" \", \"_\")\n",
    "    \n",
    "    # create a file geodatabase\n",
    "    fgdb = arcpy.management.CreateFileGDB(\n",
    "        out_folder_path = output_folder,\n",
    "        out_name = f\"{county_no_spaces}_Output\"\n",
    "    )\n",
    "\n",
    "    # Create a feature class\n",
    "    output_fc = arcpy.conversion.ExportFeatures(\n",
    "        in_features = full_fc_path,\n",
    "        out_features = os.path.join(fgdb[0], \n",
    "                                    f\"{county_no_spaces}_Highways\"),\n",
    "        where_clause = f\"NAMELSAD = '{county}'\"\n",
    "    )\n",
    "    \n",
    "    source_fgdb_path = pathlib.Path(fgdb[0])\n",
    "\n",
    "    # The name of the folder to place the File Geodatabase in\n",
    "    fgdb_folder_name = source_fgdb_path.stem\n",
    "    # The location of the folder to place the File Geodatabase in\n",
    "    fgdb_folder_location = source_fgdb_path.parent\n",
    "    # The path to the folder to place the File Geodatabase in\n",
    "    fgdb_folder_path = fgdb_folder_location.joinpath(fgdb_folder_name)\n",
    "    # The path of our copied File Geodatabase\n",
    "    fgdb_path = fgdb_folder_path.joinpath(source_fgdb_path.name)\n",
    "\n",
    "    # copy the file geodatabase into a temp folder\n",
    "    shutil.copytree(\n",
    "        source_fgdb_path, \n",
    "        fgdb_path, \n",
    "        ignore=shutil.ignore_patterns('*.lock')\n",
    "    )\n",
    "\n",
    "    # Zip the File Geodatabase\n",
    "    zipped_fgdb = shutil.make_archive(\n",
    "        base_name=fgdb_folder_path,  # The name of the archive, not including the file extension\n",
    "        format=\"zip\",  # The archive format\n",
    "        root_dir=fgdb_folder_path,  # The directory to archive\n",
    "    ) \n",
    "\n",
    "    # delete the file geodatabase\n",
    "    arcpy.management.Delete(fgdb)\n",
    "\n",
    "    # remove the temp folder\n",
    "    shutil.rmtree(fgdb_folder_path)\n",
    "    \n",
    "    # return the zip file path\n",
    "    return zipped_fgdb\n",
    "\n",
    "\n",
    "# package imports\n",
    "import arcpy\n",
    "import os\n",
    "import multiprocessing\n",
    "import pathlib\n",
    "import shutil\n",
    "\n",
    "#=============================== INPUTS ===================================\n",
    "# input file geodatabase path\n",
    "input_fgdb = r\".\\Chapter 10.gdb\"\n",
    "\n",
    "# input feature class name\n",
    "input_fc_name = \"Highways_intersect\"\n",
    "\n",
    "# output folder\n",
    "output_folder = r\".\\zipped_outputs\"\n",
    "#==========================================================================\n",
    "\n",
    "if __name__ == '__main__':\n",
    "    # get the full feature class path\n",
    "    full_fc_path = os.path.join(\n",
    "        input_fgdb, input_fc_name\n",
    "    )\n",
    "\n",
    "    # get the county for each feature\n",
    "    counties = [r[0] for r in arcpy.da.SearchCursor(full_fc_path, ['NAMELSAD'])]\n",
    "\n",
    "    # narrow the counties down to unique counties\n",
    "    counties = list(set(counties))\n",
    "    counties.sort()\n",
    "\n",
    "    # create the output folder\n",
    "    if not os.path.exists(output_folder):\n",
    "        os.mkdir(output_folder)\n",
    "        \n",
    "    # get your cpu count for multiprocessing\n",
    "    process_count = multiprocessing.cpu_count()"
   ]
  },
  {
   "cell_type": "code",
   "execution_count": null,
   "id": "722ab18c",
   "metadata": {
    "hidden": true
   },
   "outputs": [],
   "source": [
    "if __name__ == '__main__':\n",
    "\n",
    "    from concurrent.futures import ProcessPoolExecutor, as_completed\n",
    "\n",
    "    # set up the process pool executor\n",
    "    with ProcessPoolExecutor(max_workers=process_count) as executor:\n",
    "        \n",
    "        # set up a list to contain all the future objects\n",
    "        futures_list = []\n",
    "        \n",
    "        # submit each job to the executor\n",
    "        for county in counties:\n",
    "            futures_list.append(executor.submit(zip_county_highways, full_fc_path, output_folder, county))\n",
    "\n",
    "        # iterate through the futures to see when they're completed\n",
    "        for future in as_completed(futures_list):\n",
    "            print(future.result())"
   ]
  }
 ],
 "metadata": {
  "kernelspec": {
   "display_name": "Python 3",
   "language": "python",
   "name": "python3"
  },
  "language_info": {
   "codemirror_mode": {
    "name": "ipython",
    "version": 3
   },
   "file_extension": ".py",
   "mimetype": "text/x-python",
   "name": "python",
   "nbconvert_exporter": "python",
   "pygments_lexer": "ipython3",
   "version": "3.11.10"
  }
 },
 "nbformat": 4,
 "nbformat_minor": 5
}
