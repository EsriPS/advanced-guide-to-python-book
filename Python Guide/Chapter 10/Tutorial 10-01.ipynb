{
 "cells": [
  {
   "cell_type": "code",
   "execution_count": 1,
   "id": "dd7b703c",
   "metadata": {
    "hidden": true
   },
   "outputs": [],
   "source": [
    "import arcgis\n",
    "import time\n",
    "\n",
    "gis = arcgis.GIS('home')"
   ]
  },
  {
   "cell_type": "code",
   "execution_count": 2,
   "id": "9542f5d0",
   "metadata": {
    "hidden": true
   },
   "outputs": [],
   "source": [
    "# get the layer for USA structures\n",
    "item_id_structures = '0ec8512ad21e4bb987d7e848d14e7e24'\n",
    "item_structures = gis.content.get(item_id_structures)\n",
    "lyr_structures = item_structures.layers[0]\n",
    "\n",
    "# get the layer for 2020 wildfires\n",
    "item_id_wildfires = '37ab7a4a05ff485aba40a53deaa20ca1'\n",
    "item_wildfires = gis.content.get(item_id_wildfires)\n",
    "lyr_wildfires = item_wildfires.layers[1]"
   ]
  },
  {
   "cell_type": "code",
   "execution_count": null,
   "id": "5315ddcc",
   "metadata": {
    "hidden": true
   },
   "outputs": [],
   "source": [
    "fset_single_wildfire = lyr_wildfires.query(\"FIRE_NAME = 'AVILA'\")\n",
    "fset_single_wildfire"
   ]
  },
  {
   "cell_type": "code",
   "execution_count": 4,
   "id": "34c7927a",
   "metadata": {
    "hidden": true
   },
   "outputs": [],
   "source": [
    "# get the feature from the FeatureSet\n",
    "wildfire_feature = fset_single_wildfire.features[0]"
   ]
  },
  {
   "cell_type": "code",
   "execution_count": null,
   "id": "09812dc0",
   "metadata": {
    "hidden": true
   },
   "outputs": [],
   "source": [
    "# get the geometry from the single feature\n",
    "wildfire_geom = wildfire_feature.geometry\n",
    "\n",
    "# get the wildfire name\n",
    "wildfire_name = wildfire_feature.get_value(\"FIRE_NAME\")\n",
    "\n",
    "print(wildfire_name)"
   ]
  },
  {
   "cell_type": "code",
   "execution_count": 6,
   "id": "2ad73629",
   "metadata": {
    "hidden": true
   },
   "outputs": [],
   "source": [
    "# Create a spatial filter to find structures that intersect the wildfire\n",
    "wildfire_filter = arcgis.geometry.filters.intersects(\n",
    "    wildfire_geom, sr = wildfire_geom['spatialReference']\n",
    ")"
   ]
  },
  {
   "cell_type": "code",
   "execution_count": null,
   "id": "59c8f7f8",
   "metadata": {
    "hidden": true
   },
   "outputs": [],
   "source": [
    "# Query the structures layer for structures that intersect the wildfire\n",
    "structures = lyr_structures.query(\n",
    "    geometry_filter = wildfire_filter,\n",
    "    return_count_only=True\n",
    ")\n",
    "print(structures)"
   ]
  },
  {
   "cell_type": "code",
   "execution_count": 8,
   "id": "099c3b4c",
   "metadata": {
    "hidden": true
   },
   "outputs": [],
   "source": [
    "def query_structures_by_wildfire(wildfire_feature,\n",
    "                                 structures_layer):\n",
    "    \n",
    "    try:\n",
    "        # Get the wildfire geometry and name\n",
    "        wildfire_geom = wildfire_feature.geometry\n",
    "        wildfire_name = wildfire_feature.attributes['FIRE_NAME']\n",
    "\n",
    "        # Create a spatial filter to find structures that intersect the wildfire\n",
    "        wildfire_filter = arcgis.geometry.filters.intersects(\n",
    "            wildfire_geom, sr = wildfire_geom['spatialReference']\n",
    "        )\n",
    "\n",
    "        # Query the structures layer for structures that intersect the wildfire\n",
    "        structures = structures_layer.query(\n",
    "            geometry_filter = wildfire_filter,\n",
    "            return_count_only=True\n",
    "        )\n",
    "\n",
    "        # Return the wildfire name and the number of structures\n",
    "        return {\n",
    "            'Wildfire': wildfire_name,\n",
    "            'Structures': structures\n",
    "            }\n",
    "    \n",
    "    # If an error occurs, return the wildfire name and None for the structures\n",
    "    except Exception as e:\n",
    "\n",
    "        # print the error so we know which wildfire failed\n",
    "        print(wildfire_name, e)\n",
    "\n",
    "        return {\n",
    "            'Wildfire': wildfire_name,\n",
    "            'Structures': None\n",
    "            }"
   ]
  },
  {
   "cell_type": "code",
   "execution_count": null,
   "id": "2d602c67",
   "metadata": {
    "hidden": true
   },
   "outputs": [],
   "source": [
    "fset_single_wildfire = lyr_wildfires.query(\"FIRE_NAME = 'OAK'\")\n",
    "\n",
    "query_structures_by_wildfire(\n",
    "    wildfire_feature = fset_single_wildfire.features[0],\n",
    "    structures_layer = lyr_structures\n",
    ")"
   ]
  },
  {
   "cell_type": "code",
   "execution_count": 10,
   "id": "ced3f1a4",
   "metadata": {
    "hidden": true
   },
   "outputs": [],
   "source": [
    "# query all the wildfires\n",
    "fset_wildfires = lyr_wildfires.query(\n",
    "    where = \"1=1\"\n",
    ")\n"
   ]
  },
  {
   "cell_type": "code",
   "execution_count": null,
   "id": "5f2def0a",
   "metadata": {
    "hidden": true
   },
   "outputs": [],
   "source": [
    "\n",
    "all_results = []\n",
    "\n",
    "# start a timer for the total time\n",
    "total_start = time.time()\n",
    "\n",
    "# iterate through the wildfires\n",
    "for wildfire in fset_wildfires.features:\n",
    "    \n",
    "    # timer for individual features\n",
    "    loop_start = time.perf_counter()\n",
    "    \n",
    "    # run the query for each wildfire\n",
    "    results = query_structures_by_wildfire(\n",
    "                            wildfire_feature = wildfire,\n",
    "                            structures_layer = lyr_structures\n",
    "                        )\n",
    "    \n",
    "    all_results.append(results)\n",
    "    \n",
    "    # close out the timer\n",
    "    loop_end = time.perf_counter()\n",
    "    \n",
    "    print(results, loop_end - loop_start)\n",
    "    \n",
    "# close out the timer for total time\n",
    "total_end = time.time()\n",
    "print(total_end - total_start)"
   ]
  },
  {
   "cell_type": "code",
   "execution_count": 12,
   "id": "8af09dc6",
   "metadata": {
    "hidden": true
   },
   "outputs": [],
   "source": [
    "import concurrent"
   ]
  },
  {
   "cell_type": "code",
   "execution_count": null,
   "id": "bde5ac98",
   "metadata": {
    "hidden": true
   },
   "outputs": [],
   "source": [
    "# Start a timer to time the whole operation\n",
    "mt_start = time.time()\n",
    "\n",
    "# Create a list to collect all the results\n",
    "all_results = []\n",
    "\n",
    "# Use a ThreadPoolExecutor to query structures for each wildfire\n",
    "with concurrent.futures.ThreadPoolExecutor(max_workers=10) as executor:\n",
    "    \n",
    "    # Create a list to store the future objects\n",
    "    exec_futures = []\n",
    "\n",
    "    # Iterate through each wildfire feature\n",
    "    for wildfire in fset_wildfires.features:\n",
    "\n",
    "        # Submit a query task for each wildfire\n",
    "        exec_result = executor.submit(\n",
    "            query_structures_by_wildfire, # our function\n",
    "            wildfire_feature = wildfire, # parameters for our function\n",
    "            structures_layer = lyr_structures\n",
    "        )\n",
    "\n",
    "        # Append the future object to the list\n",
    "        exec_futures.append(exec_result)\n",
    "\n",
    "    # Iterate through the future objects as they complete\n",
    "    for f in concurrent.futures.as_completed(exec_futures):\n",
    "        all_results.append(f.result())\n",
    "\n",
    "# End timer and print the total time\n",
    "mt_end = time.time()\n",
    "print(mt_end - mt_start)"
   ]
  },
  {
   "cell_type": "code",
   "execution_count": 14,
   "id": "05069b34",
   "metadata": {
    "hidden": true
   },
   "outputs": [],
   "source": [
    "import pandas\n",
    "df = pandas.DataFrame(all_results)"
   ]
  },
  {
   "cell_type": "code",
   "execution_count": null,
   "id": "c266684f",
   "metadata": {
    "hidden": true
   },
   "outputs": [],
   "source": [
    "df.head()"
   ]
  },
  {
   "cell_type": "markdown",
   "id": "5eba6525",
   "metadata": {},
   "source": [
    "Copyright 2025 Esri"
   ]
  }
 ],
 "metadata": {
  "kernelspec": {
   "display_name": "Python 3",
   "language": "python",
   "name": "python3"
  },
  "language_info": {
   "codemirror_mode": {
    "name": "ipython",
    "version": 3
   },
   "file_extension": ".py",
   "mimetype": "text/x-python",
   "name": "python",
   "nbconvert_exporter": "python",
   "pygments_lexer": "ipython3",
   "version": "3.11.10"
  }
 },
 "nbformat": 4,
 "nbformat_minor": 5
}
