{
 "cells": [
  {
   "cell_type": "code",
   "execution_count": 1,
   "metadata": {
    "hidden": true
   },
   "outputs": [],
   "source": [
    "def zip_county_highways(full_fc_path, output_folder, county):\n",
    "    '''\n",
    "    This function creates a zip file containing a file geodatabase with \n",
    "    a feature class containing only the highways for a specific county.\n",
    "\n",
    "    Parameters:\n",
    "        full_fc_path (str): The full path to the input feature class\n",
    "        output_folder (str): The path to the output folder\n",
    "        county (str): The name of the county to extract highways for\n",
    "\n",
    "    Returns:\n",
    "        str: The path to the zipped file geodatabase\n",
    "    '''\n",
    "    \n",
    "    # remove spaces from county name\n",
    "    county_no_spaces = county.replace(\" \", \"_\")\n",
    "    \n",
    "    # create a file geodatabase\n",
    "    fgdb = arcpy.management.CreateFileGDB(\n",
    "        out_folder_path = output_folder,\n",
    "        out_name = f\"{county_no_spaces}_Output\"\n",
    "    )\n",
    "\n",
    "    # Create a feature class\n",
    "    output_fc = arcpy.conversion.ExportFeatures(\n",
    "        in_features = full_fc_path,\n",
    "        out_features = os.path.join(fgdb[0], \n",
    "                                    f\"{county_no_spaces}_Highways\"),\n",
    "        where_clause = f\"NAMELSAD = '{county}'\"\n",
    "    )\n",
    "    \n",
    "    source_fgdb_path = pathlib.Path(fgdb[0])\n",
    "\n",
    "    # The name of the folder to place the File Geodatabase in\n",
    "    fgdb_folder_name = source_fgdb_path.stem\n",
    "    # The location of the folder to place the File Geodatabase in\n",
    "    fgdb_folder_location = source_fgdb_path.parent\n",
    "    # The path to the folder to place the File Geodatabase in\n",
    "    fgdb_folder_path = fgdb_folder_location.joinpath(fgdb_folder_name)\n",
    "    # The path of our copied File Geodatabase\n",
    "    fgdb_path = fgdb_folder_path.joinpath(source_fgdb_path.name)\n",
    "\n",
    "    # Copy the file geodatabase into a temp folder\n",
    "    shutil.copytree(\n",
    "        source_fgdb_path, \n",
    "        fgdb_path, \n",
    "        ignore=shutil.ignore_patterns('*.lock')\n",
    "    )\n",
    "\n",
    "    # Zip the File Geodatabase\n",
    "    zipped_fgdb = shutil.make_archive(\n",
    "        base_name=fgdb_folder_path,  # The name of the archive, not including the file extension\n",
    "        format=\"zip\",  # The archive format\n",
    "        root_dir=fgdb_folder_path,  # The directory to archive\n",
    "    ) \n",
    "\n",
    "    # Delete the file geodatabase\n",
    "    arcpy.management.Delete(fgdb)\n",
    "\n",
    "    # Remove the temp folder\n",
    "    shutil.rmtree(fgdb_folder_path)\n",
    "    \n",
    "    # Return the zip file path\n",
    "    return zipped_fgdb"
   ]
  },
  {
   "cell_type": "code",
   "execution_count": 2,
   "metadata": {
    "hidden": true
   },
   "outputs": [],
   "source": [
    "# import packages\n",
    "import arcpy\n",
    "import shutil\n",
    "import pathlib\n",
    "import os"
   ]
  },
  {
   "cell_type": "code",
   "execution_count": 3,
   "metadata": {
    "hidden": true
   },
   "outputs": [],
   "source": [
    "# input file geodatabase path\n",
    "full_fc_path = \".\\Chapter 13.gdb\\Highways_intersect\"\n",
    "\n",
    "# output folder\n",
    "output_folder = \".\\zipped_outputs\""
   ]
  },
  {
   "cell_type": "code",
   "execution_count": null,
   "metadata": {
    "hidden": true
   },
   "outputs": [],
   "source": [
    "# export a zip file for Alameda County\n",
    "zip_county_highways(full_fc_path, output_folder, \"Alameda County\")"
   ]
  },
  {
   "cell_type": "code",
   "execution_count": null,
   "metadata": {},
   "outputs": [],
   "source": [
    "if __name__ == \"__main__\":\n",
    "    # input file geodatabase path\n",
    "    full_fc_path = arcpy.GetParameterAsText(0)\n",
    "\n",
    "    # output folder\n",
    "    output_folder = arcpy.GetParameterAsText(1)\n",
    "\n",
    "    # which county to export\n",
    "    county = arcpy.GetParameterAsText(2)\n",
    "\n",
    "    # export a zip file for the County\n",
    "    zip_county_highways(full_fc_path, output_folder, county)"
   ]
  },
  {
   "cell_type": "markdown",
   "metadata": {},
   "source": [
    "Copyright 2025 Esri"
   ]
  }
 ],
 "metadata": {
  "kernelspec": {
   "display_name": "Python 3",
   "language": "python",
   "name": "python3"
  },
  "language_info": {
   "codemirror_mode": {
    "name": "ipython",
    "version": 3
   },
   "file_extension": ".py",
   "mimetype": "text/x-python",
   "name": "python",
   "nbconvert_exporter": "python",
   "pygments_lexer": "ipython3",
   "version": "3.11.10"
  }
 },
 "nbformat": 4,
 "nbformat_minor": 2
}
